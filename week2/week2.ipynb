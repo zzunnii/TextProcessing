{
 "cells": [
  {
   "cell_type": "code",
   "id": "initial_id",
   "metadata": {
    "collapsed": true,
    "ExecuteTime": {
     "end_time": "2025-03-17T11:35:55.271562Z",
     "start_time": "2025-03-17T11:35:55.082813Z"
    }
   },
   "source": "import numpy as np",
   "outputs": [],
   "execution_count": 1
  },
  {
   "metadata": {
    "ExecuteTime": {
     "end_time": "2025-03-17T11:40:36.064578Z",
     "start_time": "2025-03-17T11:40:36.055071Z"
    }
   },
   "cell_type": "code",
   "source": [
    "a_list = [1, 2, 3, 4, 5]\n",
    " \n",
    "a_np = np.array(a_list)"
   ],
   "id": "87b0c4f2616036c1",
   "outputs": [],
   "execution_count": 6
  },
  {
   "metadata": {
    "ExecuteTime": {
     "end_time": "2025-03-17T11:40:39.790799Z",
     "start_time": "2025-03-17T11:40:39.778787Z"
    }
   },
   "cell_type": "code",
   "source": "type(a_np)",
   "id": "faccb904348ebc3c",
   "outputs": [
    {
     "data": {
      "text/plain": [
       "numpy.ndarray"
      ]
     },
     "execution_count": 7,
     "metadata": {},
     "output_type": "execute_result"
    }
   ],
   "execution_count": 7
  },
  {
   "metadata": {
    "ExecuteTime": {
     "end_time": "2025-03-17T11:40:47.547439Z",
     "start_time": "2025-03-17T11:40:47.529425Z"
    }
   },
   "cell_type": "code",
   "source": "type(a_list)",
   "id": "a07dce9c91c810a4",
   "outputs": [
    {
     "data": {
      "text/plain": [
       "list"
      ]
     },
     "execution_count": 9,
     "metadata": {},
     "output_type": "execute_result"
    }
   ],
   "execution_count": 9
  },
  {
   "metadata": {
    "ExecuteTime": {
     "end_time": "2025-03-17T11:41:16.891121Z",
     "start_time": "2025-03-17T11:41:16.882616Z"
    }
   },
   "cell_type": "code",
   "source": [
    "a_list = list(range(1, 101))\n",
    "sum(a_list)"
   ],
   "id": "89403fdc5f39506d",
   "outputs": [
    {
     "data": {
      "text/plain": [
       "5050"
      ]
     },
     "execution_count": 11,
     "metadata": {},
     "output_type": "execute_result"
    }
   ],
   "execution_count": 11
  },
  {
   "metadata": {
    "ExecuteTime": {
     "end_time": "2025-03-17T11:42:18.191662Z",
     "start_time": "2025-03-17T11:42:18.181187Z"
    }
   },
   "cell_type": "code",
   "source": [
    "a_np = np.arange(1, 101, dtype=np.int64)\n",
    "sum(a_np)"
   ],
   "id": "621c4100d8a44bcc",
   "outputs": [
    {
     "data": {
      "text/plain": [
       "5050"
      ]
     },
     "execution_count": 15,
     "metadata": {},
     "output_type": "execute_result"
    }
   ],
   "execution_count": 15
  },
  {
   "metadata": {
    "ExecuteTime": {
     "end_time": "2025-03-17T11:42:53.985311Z",
     "start_time": "2025-03-17T11:42:53.966286Z"
    }
   },
   "cell_type": "code",
   "source": [
    "a_np = np.linspace(0, 1, 10)\n",
    "a_np"
   ],
   "id": "2cbe650d50354df",
   "outputs": [
    {
     "data": {
      "text/plain": [
       "array([0.        , 0.11111111, 0.22222222, 0.33333333, 0.44444444,\n",
       "       0.55555556, 0.66666667, 0.77777778, 0.88888889, 1.        ])"
      ]
     },
     "execution_count": 17,
     "metadata": {},
     "output_type": "execute_result"
    }
   ],
   "execution_count": 17
  },
  {
   "metadata": {
    "ExecuteTime": {
     "end_time": "2025-03-17T11:43:37.612706Z",
     "start_time": "2025-03-17T11:43:37.603196Z"
    }
   },
   "cell_type": "code",
   "source": [
    "print(np.array([[1,2],[3,4]]))             #2차원 리스트로 2*2 행렬 만들기\n",
    "print(np.arange(1,11))                     #범위 내 숫자로 1차원 행렬 만들기\n",
    "print(np.linspace(0, 1, num=10))           #일정 간격으로 범위내 num 갯수만큼 만들기\n",
    "print(np.empty((3,3), dtype='float32'))    #초기화 하지 않은 3*3 행렬 만들기\n",
    "print(np.eye(6, dtype='float32'))          #6*6 대각행렬 만들기(대각요소만 1)\n",
    "print(np.zeros(3, dtype='float32'))        #0으로 초기화 된 1차원 행렬 만들기\n",
    "print(np.zeros((3,3), dtype='float32'))    #0으로 초기화 된 3*3 행렬 만들기\n",
    "print(np.zeros((3,3,3), dtype='float32'))  #0으로 초기화 된 3*3*3 행렬 만들기\n",
    "print(np.ones((3,3), dtype='float32'))     #1로 초기화 된 3*3 행렬 만들기\n",
    "print(np.full((3,3), 0.5))                 #0.5로 채워진 3*3 행렬 만들기\n",
    "print(np.random.random((3,3)))             #임의의 값으로 채워진 3*3 행렬 만들기"
   ],
   "id": "375361d4b66b96e6",
   "outputs": [
    {
     "name": "stdout",
     "output_type": "stream",
     "text": [
      "[[1 2]\n",
      " [3 4]]\n",
      "[ 1  2  3  4  5  6  7  8  9 10]\n",
      "[0.         0.11111111 0.22222222 0.33333333 0.44444444 0.55555556\n",
      " 0.66666667 0.77777778 0.88888889 1.        ]\n",
      "[[0.0000000e+00 1.4012985e-45 0.0000000e+00]\n",
      " [7.8061461e-39 1.0369609e-42 0.0000000e+00]\n",
      " [1.0761972e-42 1.0089349e-43 1.0102071e-38]]\n",
      "[[1. 0. 0. 0. 0. 0.]\n",
      " [0. 1. 0. 0. 0. 0.]\n",
      " [0. 0. 1. 0. 0. 0.]\n",
      " [0. 0. 0. 1. 0. 0.]\n",
      " [0. 0. 0. 0. 1. 0.]\n",
      " [0. 0. 0. 0. 0. 1.]]\n",
      "[0. 0. 0.]\n",
      "[[0. 0. 0.]\n",
      " [0. 0. 0.]\n",
      " [0. 0. 0.]]\n",
      "[[[0. 0. 0.]\n",
      "  [0. 0. 0.]\n",
      "  [0. 0. 0.]]\n",
      "\n",
      " [[0. 0. 0.]\n",
      "  [0. 0. 0.]\n",
      "  [0. 0. 0.]]\n",
      "\n",
      " [[0. 0. 0.]\n",
      "  [0. 0. 0.]\n",
      "  [0. 0. 0.]]]\n",
      "[[1. 1. 1.]\n",
      " [1. 1. 1.]\n",
      " [1. 1. 1.]]\n",
      "[[0.5 0.5 0.5]\n",
      " [0.5 0.5 0.5]\n",
      " [0.5 0.5 0.5]]\n",
      "[[0.6521128  0.23053283 0.4686614 ]\n",
      " [0.69820967 0.64700954 0.36429985]\n",
      " [0.88488891 0.21006006 0.39241187]]\n"
     ]
    }
   ],
   "execution_count": 18
  },
  {
   "metadata": {
    "ExecuteTime": {
     "end_time": "2025-03-17T11:46:39.605369Z",
     "start_time": "2025-03-17T11:46:39.594359Z"
    }
   },
   "cell_type": "code",
   "source": [
    "a_np = np.random.random(10)\n",
    "a_np"
   ],
   "id": "e57c49dbf632cb15",
   "outputs": [],
   "execution_count": 20
  },
  {
   "metadata": {
    "ExecuteTime": {
     "end_time": "2025-03-17T11:47:49.748978Z",
     "start_time": "2025-03-17T11:47:49.740979Z"
    }
   },
   "cell_type": "code",
   "source": [
    "a_np.shape\n",
    "(10,)"
   ],
   "id": "ddccd092d6b2d1b8",
   "outputs": [
    {
     "data": {
      "text/plain": [
       "(10,)"
      ]
     },
     "execution_count": 25,
     "metadata": {},
     "output_type": "execute_result"
    }
   ],
   "execution_count": 25
  },
  {
   "metadata": {
    "ExecuteTime": {
     "end_time": "2025-03-17T11:47:40.904112Z",
     "start_time": "2025-03-17T11:47:40.894111Z"
    }
   },
   "cell_type": "code",
   "source": [
    "a_np = a_np.reshape((2,5)) \n",
    "a_np"
   ],
   "id": "8898c2f63637fca1",
   "outputs": [
    {
     "data": {
      "text/plain": [
       "array([[0.03526926, 0.09841804, 0.30539262, 0.93384731, 0.88536816],\n",
       "       [0.05966313, 0.65313326, 0.70485198, 0.28892811, 0.03617629]])"
      ]
     },
     "execution_count": 23,
     "metadata": {},
     "output_type": "execute_result"
    }
   ],
   "execution_count": 23
  },
  {
   "metadata": {
    "ExecuteTime": {
     "end_time": "2025-03-17T11:47:43.117210Z",
     "start_time": "2025-03-17T11:47:43.107206Z"
    }
   },
   "cell_type": "code",
   "source": "a_np.shape",
   "id": "2b07e217ae04d440",
   "outputs": [
    {
     "data": {
      "text/plain": [
       "(2, 5)"
      ]
     },
     "execution_count": 24,
     "metadata": {},
     "output_type": "execute_result"
    }
   ],
   "execution_count": 24
  },
  {
   "metadata": {
    "ExecuteTime": {
     "end_time": "2025-03-17T11:47:59.793920Z",
     "start_time": "2025-03-17T11:47:59.785921Z"
    }
   },
   "cell_type": "code",
   "source": [
    "a_np = np.arange(10)\n",
    "#array[start : stop : step]\n",
    "print(a_np)         #[0 1 2 3 4 5 6 7 8 9]\n",
    "print(a_np[3:])     #      [3 4 5 6 7 8 9]\n",
    "print(a_np[:3])     #[0 1 2]\n",
    "print(a_np[2:-3])   #    [2 3 4 5 6]\n",
    "print(a_np[::2])    #[0 2 4 6 8] \n",
    "print(a_np[-1::-2]) #[9 7 5 3 1]"
   ],
   "id": "c1d3672f184d519c",
   "outputs": [
    {
     "name": "stdout",
     "output_type": "stream",
     "text": [
      "[0 1 2 3 4 5 6 7 8 9]\n",
      "[3 4 5 6 7 8 9]\n",
      "[0 1 2]\n",
      "[2 3 4 5 6]\n",
      "[0 2 4 6 8]\n",
      "[9 7 5 3 1]\n"
     ]
    }
   ],
   "execution_count": 26
  },
  {
   "metadata": {
    "ExecuteTime": {
     "end_time": "2025-03-17T11:48:05.756505Z",
     "start_time": "2025-03-17T11:48:05.751506Z"
    }
   },
   "cell_type": "code",
   "source": [
    "a_np = np.array([[1,2,3,4,5],[6,7,8,9,10]])\n",
    "print(a_np)\n",
    "print(a_np[0,:3])   #row : 0,   col : 0~3\n",
    "print(a_np[:,1:-2]) #row : all, col : 1~2\n",
    "print(a_np[1,:])    #row : 1,   col : all"
   ],
   "id": "dee116dea845a9d1",
   "outputs": [
    {
     "name": "stdout",
     "output_type": "stream",
     "text": [
      "[[ 1  2  3  4  5]\n",
      " [ 6  7  8  9 10]]\n",
      "[1 2 3]\n",
      "[[2 3]\n",
      " [7 8]]\n",
      "[ 6  7  8  9 10]\n"
     ]
    }
   ],
   "execution_count": 27
  },
  {
   "metadata": {
    "ExecuteTime": {
     "end_time": "2025-03-17T11:48:12.673772Z",
     "start_time": "2025-03-17T11:48:12.663774Z"
    }
   },
   "cell_type": "code",
   "source": [
    "a_np = np.array([[1,2,3,4,5],[6,7,8,9,10]])\n",
    "print(a_np * 5)\n",
    "print(a_np / 5)\n",
    "print(a_np ** 5)\n",
    "print(a_np % 5)\n",
    "print(a_np // 5)\n",
    "print(a_np + a_np)\n",
    "print(a_np * a_np)\n",
    "print(a_np ** a_np)"
   ],
   "id": "706173b1c228975",
   "outputs": [
    {
     "name": "stdout",
     "output_type": "stream",
     "text": [
      "[[ 5 10 15 20 25]\n",
      " [30 35 40 45 50]]\n",
      "[[0.2 0.4 0.6 0.8 1. ]\n",
      " [1.2 1.4 1.6 1.8 2. ]]\n",
      "[[     1     32    243   1024   3125]\n",
      " [  7776  16807  32768  59049 100000]]\n",
      "[[1 2 3 4 0]\n",
      " [1 2 3 4 0]]\n",
      "[[0 0 0 0 1]\n",
      " [1 1 1 1 2]]\n",
      "[[ 2  4  6  8 10]\n",
      " [12 14 16 18 20]]\n",
      "[[  1   4   9  16  25]\n",
      " [ 36  49  64  81 100]]\n",
      "[[         1          4         27        256       3125]\n",
      " [     46656     823543   16777216  387420489 1410065408]]\n"
     ]
    }
   ],
   "execution_count": 28
  },
  {
   "metadata": {
    "ExecuteTime": {
     "end_time": "2025-03-17T11:48:22.036109Z",
     "start_time": "2025-03-17T11:48:21.999597Z"
    }
   },
   "cell_type": "code",
   "source": [
    "from time import time\n",
    "\n",
    "start = time()\n",
    "#1~1000000까지 더하기 - 일반 리스트 사용\n",
    "a_list = list(range(1, 1_000_001))\n",
    "print('sum : ', sum(a_list))\n",
    "end = time()\n",
    "\n",
    "print('calc time : {}'.format(end-start))\n",
    "\n",
    "start = time()\n",
    "#1~1000000까지 더하기 - numpy 사용\n",
    "a_np = np.arange(1, 1_000_001, dtype=np.int64)\n",
    "print('sum : ', a_np.sum())\n",
    "end = time()\n",
    "\n",
    "print('calc time : {}'.format(end-start))"
   ],
   "id": "b36419e5fe788ed5",
   "outputs": [
    {
     "name": "stdout",
     "output_type": "stream",
     "text": [
      "sum :  500000500000\n",
      "calc time : 0.030507564544677734\n",
      "sum :  500000500000\n",
      "calc time : 0.003004312515258789\n"
     ]
    }
   ],
   "execution_count": 29
  },
  {
   "metadata": {
    "ExecuteTime": {
     "end_time": "2025-03-17T12:05:13.322309Z",
     "start_time": "2025-03-17T12:05:13.306307Z"
    }
   },
   "cell_type": "code",
   "source": [
    "import numpy as np\n",
    "\n",
    "# 배열 정의\n",
    "a_np = np.array([[1, 2, 3], [4, 5, 6]])\n",
    "b_np = np.array([[1, 3, 5], [2, 4, 6]])\n",
    "\n",
    "# 조건 비교와 인덱스 찾기 함수 실습\n",
    "r1 = np.any(a_np > 3)          # 배열에 3보다 큰 요소가 하나라도 있으면 True\n",
    "print(\"r1:\", r1)\n",
    "\n",
    "r2 = np.all(a_np > 3)          # 모든 요소가 3보다 크면 True, 아니면 False\n",
    "print(\"r2:\", r2)\n",
    "\n",
    "r3 = a_np >= b_np              # 요소별로 a_np가 b_np보다 크거나 같은지 비교\n",
    "print(\"r3:\\n\", r3)\n",
    "\n",
    "r4 = a_np[a_np >= b_np]        # a_np에서 조건(r3)을 만족하는 값만 추출\n",
    "print(\"r4:\", r4)\n",
    "\n",
    "r5 = np.where(a_np > 2)        # 2보다 큰 요소의 인덱스를 반환 (행, 열 배열 쌍)\n",
    "print(\"r5:\", r5)\n",
    "\n",
    "r6 = np.where(a_np > 2, a_np, 0)  # 2보다 크면 a_np 값, 아니면 0으로 채움\n",
    "print(\"r6:\\n\", r6)\n",
    "\n",
    "r7 = np.where(a_np > 2, a_np*2, 1)  # 2보다 크면 a_np*2, 아니면 1로 채움\n",
    "print(\"r7:\\n\", r7)\n",
    "\n",
    "r8 = np.argmax(a_np)           # 배열 전체에서 최대값의 인덱스 (평평한 1D 기준)\n",
    "print(\"r8:\", r8)\n",
    "\n",
    "r9 = np.argmax(a_np, axis=1)   # 행별 최대값의 인덱스\n",
    "print(\"r9:\", r9)\n",
    "\n",
    "r10 = np.argmax(a_np, axis=0)  # 열별 최대값의 인덱스\n",
    "print(\"r10:\", r10)"
   ],
   "id": "ea066bc08fffc20f",
   "outputs": [
    {
     "name": "stdout",
     "output_type": "stream",
     "text": [
      "r1: True\n",
      "r2: False\n",
      "r3:\n",
      " [[ True False False]\n",
      " [ True  True  True]]\n",
      "r4: [1 4 5 6]\n",
      "r5: (array([0, 1, 1, 1], dtype=int64), array([2, 0, 1, 2], dtype=int64))\n",
      "r6:\n",
      " [[0 0 3]\n",
      " [4 5 6]]\n",
      "r7:\n",
      " [[ 1  1  6]\n",
      " [ 8 10 12]]\n",
      "r8: 5\n",
      "r9: [2 2]\n",
      "r10: [1 1 1]\n"
     ]
    }
   ],
   "execution_count": 31
  },
  {
   "metadata": {},
   "cell_type": "code",
   "outputs": [],
   "execution_count": null,
   "source": "",
   "id": "11626b93ea65ede5"
  }
 ],
 "metadata": {
  "kernelspec": {
   "display_name": "Python 3",
   "language": "python",
   "name": "python3"
  },
  "language_info": {
   "codemirror_mode": {
    "name": "ipython",
    "version": 2
   },
   "file_extension": ".py",
   "mimetype": "text/x-python",
   "name": "python",
   "nbconvert_exporter": "python",
   "pygments_lexer": "ipython2",
   "version": "2.7.6"
  }
 },
 "nbformat": 4,
 "nbformat_minor": 5
}
