{
 "cells": [
  {
   "metadata": {},
   "cell_type": "markdown",
   "source": "# Usage Dictionary",
   "id": "ea69e1c9dac20b7f"
  },
  {
   "metadata": {
    "ExecuteTime": {
     "end_time": "2025-03-12T09:24:39.746391Z",
     "start_time": "2025-03-12T09:24:39.736884Z"
    }
   },
   "cell_type": "code",
   "source": [
    "dict = {'kor':0, 'eng':1, 'math':2}\n",
    "print(dict['kor'])     #key 'kor' 출력\n",
    "dict['math'] = 3       #{'kor':0, 'eng':1, 'math':3}\n",
    "dict['science'] = 2    #{'kor':0, 'eng':1, 'math':3, 'science':2}\n",
    "del dict['kor']      #{'eng':1, 'math':3, 'science':2}\n",
    "print(dict)"
   ],
   "id": "64e918707d05b3b6",
   "outputs": [
    {
     "name": "stdout",
     "output_type": "stream",
     "text": [
      "0\n",
      "{'eng': 1, 'math': 3, 'science': 2}\n"
     ]
    }
   ],
   "execution_count": 2
  },
  {
   "metadata": {
    "ExecuteTime": {
     "end_time": "2025-03-12T09:25:11.264231Z",
     "start_time": "2025-03-12T09:25:11.255227Z"
    }
   },
   "cell_type": "code",
   "source": [
    "print(dict.keys())\n",
    "print(dict.values())\n",
    "print(dict.items())\n",
    "key_list = list(dict.keys())\n",
    "print(key_list)"
   ],
   "id": "d4166e18995c11ca",
   "outputs": [
    {
     "name": "stdout",
     "output_type": "stream",
     "text": [
      "dict_keys(['eng', 'math', 'science'])\n",
      "dict_values([1, 3, 2])\n",
      "dict_items([('eng', 1), ('math', 3), ('science', 2)])\n",
      "['eng', 'math', 'science']\n"
     ]
    }
   ],
   "execution_count": 3
  },
  {
   "metadata": {
    "ExecuteTime": {
     "end_time": "2025-03-12T09:26:03.158Z",
     "start_time": "2025-03-12T09:26:03.139474Z"
    }
   },
   "cell_type": "code",
   "source": [
    "for key in dict.keys():\n",
    "    print(key)\n",
    "for value in dict.values():\n",
    "    print(value)\n",
    "for item in dict.items():\n",
    "    print(item, '\\titem = {}, value = {}'.format(item[0], item[1]))\n",
    "print('math' in dict)\n",
    "if 'computer' not in dict:\n",
    "    dict['computer'] = 4\n",
    "print(dict)"
   ],
   "id": "57cd08a936bcb734",
   "outputs": [
    {
     "name": "stdout",
     "output_type": "stream",
     "text": [
      "eng\n",
      "math\n",
      "science\n",
      "1\n",
      "3\n",
      "2\n",
      "('eng', 1) \titem = eng, value = 1\n",
      "('math', 3) \titem = math, value = 3\n",
      "('science', 2) \titem = science, value = 2\n",
      "True\n",
      "{'eng': 1, 'math': 3, 'science': 2, 'computer': 4}\n"
     ]
    }
   ],
   "execution_count": 4
  },
  {
   "metadata": {},
   "cell_type": "markdown",
   "source": "# Usage String",
   "id": "a10dc235e80e17bf"
  },
  {
   "metadata": {
    "ExecuteTime": {
     "end_time": "2025-03-12T09:27:02.887090Z",
     "start_time": "2025-03-12T09:27:02.865569Z"
    }
   },
   "cell_type": "code",
   "source": [
    "sentence = 'Hello Python, This text is a sample.'\n",
    "'is' in sentence                # 'is'가 있는가? bool 반환\n",
    "sentence.index('This')          # 'This'가 출현한 위치는?\n",
    "sentence.split()            # 공백문자 기준으로 단어 리스트 생성\n",
    "sentence.split().index('This')  #어단어리스트에서 'This'의 출현 위치\n",
    "sentence.split()[3]             # 단어리스트의 4번째 방에 있는 단어\n",
    "sentence[-10:]                  # 뒤에서 10번째 문자부터 끝까지 문자열\n",
    "sentence[::-1]                  # 처음부터 끝까지 문자열(뒤에서부터 하나씩)"
   ],
   "id": "98e4e64c9f03742e",
   "outputs": [
    {
     "data": {
      "text/plain": [
       "'.elpmas a si txet sihT ,nohtyP olleH'"
      ]
     },
     "execution_count": 5,
     "metadata": {},
     "output_type": "execute_result"
    }
   ],
   "execution_count": 5
  },
  {
   "metadata": {
    "ExecuteTime": {
     "end_time": "2025-03-12T09:28:17.914216Z",
     "start_time": "2025-03-12T09:28:17.899560Z"
    }
   },
   "cell_type": "code",
   "source": "'abc' + 'efg'",
   "id": "d0e2fe3261d56513",
   "outputs": [
    {
     "data": {
      "text/plain": [
       "'abcefg'"
      ]
     },
     "execution_count": 8,
     "metadata": {},
     "output_type": "execute_result"
    }
   ],
   "execution_count": 8
  },
  {
   "metadata": {
    "ExecuteTime": {
     "end_time": "2025-03-12T09:28:31.542215Z",
     "start_time": "2025-03-12T09:28:31.530706Z"
    }
   },
   "cell_type": "code",
   "source": "'test' > 'train'",
   "id": "aaccca6e885b267b",
   "outputs": [
    {
     "data": {
      "text/plain": [
       "False"
      ]
     },
     "execution_count": 9,
     "metadata": {},
     "output_type": "execute_result"
    }
   ],
   "execution_count": 9
  },
  {
   "metadata": {
    "ExecuteTime": {
     "end_time": "2025-03-12T09:29:04.500433Z",
     "start_time": "2025-03-12T09:29:04.495923Z"
    }
   },
   "cell_type": "code",
   "source": "'hello'*10",
   "id": "e8a5c5106ed96ade",
   "outputs": [
    {
     "data": {
      "text/plain": [
       "'hellohellohellohellohellohellohellohellohellohello'"
      ]
     },
     "execution_count": 13,
     "metadata": {},
     "output_type": "execute_result"
    }
   ],
   "execution_count": 13
  },
  {
   "metadata": {
    "ExecuteTime": {
     "end_time": "2025-03-12T09:29:19.924168Z",
     "start_time": "2025-03-12T09:29:19.908658Z"
    }
   },
   "cell_type": "code",
   "source": "'he' in 'she'",
   "id": "66f5287cf1722be5",
   "outputs": [
    {
     "data": {
      "text/plain": [
       "True"
      ]
     },
     "execution_count": 15,
     "metadata": {},
     "output_type": "execute_result"
    }
   ],
   "execution_count": 15
  },
  {
   "metadata": {
    "ExecuteTime": {
     "end_time": "2025-03-12T09:29:41.590457Z",
     "start_time": "2025-03-12T09:29:41.581397Z"
    }
   },
   "cell_type": "code",
   "source": [
    "str = 'hello python'\n",
    "str[0]"
   ],
   "id": "593cfa63379a43d",
   "outputs": [
    {
     "data": {
      "text/plain": [
       "'h'"
      ]
     },
     "execution_count": 18,
     "metadata": {},
     "output_type": "execute_result"
    }
   ],
   "execution_count": 18
  },
  {
   "metadata": {
    "ExecuteTime": {
     "end_time": "2025-03-12T09:29:48.329235Z",
     "start_time": "2025-03-12T09:29:48.313221Z"
    }
   },
   "cell_type": "code",
   "source": "len(str)",
   "id": "10c3a35ef898d5ab",
   "outputs": [
    {
     "data": {
      "text/plain": [
       "12"
      ]
     },
     "execution_count": 20,
     "metadata": {},
     "output_type": "execute_result"
    }
   ],
   "execution_count": 20
  },
  {
   "metadata": {
    "ExecuteTime": {
     "end_time": "2025-03-12T09:30:01.882476Z",
     "start_time": "2025-03-12T09:30:01.873968Z"
    }
   },
   "cell_type": "code",
   "source": "str[len(str)-1]",
   "id": "91a180f2cada1d31",
   "outputs": [
    {
     "data": {
      "text/plain": [
       "'n'"
      ]
     },
     "execution_count": 22,
     "metadata": {},
     "output_type": "execute_result"
    }
   ],
   "execution_count": 22
  },
  {
   "metadata": {
    "ExecuteTime": {
     "end_time": "2025-03-12T09:30:21.182833Z",
     "start_time": "2025-03-12T09:30:21.171400Z"
    }
   },
   "cell_type": "code",
   "source": "str[0], str[4]",
   "id": "671966c81b51d5ee",
   "outputs": [
    {
     "data": {
      "text/plain": [
       "('h', 'o')"
      ]
     },
     "execution_count": 24,
     "metadata": {},
     "output_type": "execute_result"
    }
   ],
   "execution_count": 24
  },
  {
   "metadata": {
    "ExecuteTime": {
     "end_time": "2025-03-12T09:32:32.350733Z",
     "start_time": "2025-03-12T09:32:32.334716Z"
    }
   },
   "cell_type": "code",
   "source": [
    "print(str[:5]) # 'hello' 처음부터 5개(인덱스 0-4)\n",
    "print(str[-6:]) # 'python' 뒤에서 6번째 끝까지\n",
    "print(str[0:4:2]) # 'hl' 처음부터 4개 범위에서 두 개 단위로 추출\n",
    "print(str[::2]) #처음부터 끝까지 두 개 단위로 추출"
   ],
   "id": "5747f28da327311",
   "outputs": [
    {
     "name": "stdout",
     "output_type": "stream",
     "text": [
      "hello\n",
      "python\n",
      "hl\n",
      "hlopto\n"
     ]
    }
   ],
   "execution_count": 28
  },
  {
   "metadata": {
    "ExecuteTime": {
     "end_time": "2025-03-12T09:35:33.307395Z",
     "start_time": "2025-03-12T09:35:33.294884Z"
    }
   },
   "cell_type": "code",
   "source": [
    "words = ['hello', 'python', 'code', 'sample']\n",
    "\n",
    "str_orignal = 'Hello_pyThon_cOde_sample'\n",
    "str_lower = str_orignal.lower()     # 소문자 변환\n",
    "str_upper = str_orignal.upper()     # 대문자 변환\n",
    "str_strip = str_orignal.strip(' ,') # 문자열 앞,뒤의 공백과 , 문자 제거\n",
    "\n",
    "#소문자로 변환한 문자열의 앞뒤 공백, ','문자 제거 후 '_'를 구분자로 문자열 쪼개기\n",
    "tokens = str_orignal.lower().strip(' ,').split('_')\n",
    "\n",
    "print(f\"{str_lower},\\n {str_upper},\\n {str_strip},\\n {tokens}\")"
   ],
   "id": "b24de049e98b6c34",
   "outputs": [
    {
     "name": "stdout",
     "output_type": "stream",
     "text": [
      "hello_python_code_sample,\n",
      " HELLO_PYTHON_CODE_SAMPLE,\n",
      " Hello_pyThon_cOde_sample,\n",
      " ['hello', 'python', 'code', 'sample']\n"
     ]
    }
   ],
   "execution_count": 35
  },
  {
   "metadata": {
    "ExecuteTime": {
     "end_time": "2025-03-12T09:35:54.258169Z",
     "start_time": "2025-03-12T09:35:54.253169Z"
    }
   },
   "cell_type": "code",
   "source": [
    "txt = 'hello python'\n",
    "table = txt.maketrans('eo','ab')\n",
    "print(table)\n",
    "txt_trans = txt.translate(table) #문자열 안의 'e', 'o'를 'a', 'b'로 변환한다.\n",
    "print(txt_trans)"
   ],
   "id": "4e40b093eacbcc41",
   "outputs": [
    {
     "name": "stdout",
     "output_type": "stream",
     "text": [
      "{101: 97, 111: 98}\n",
      "hallb pythbn\n"
     ]
    }
   ],
   "execution_count": 37
  },
  {
   "metadata": {},
   "cell_type": "markdown",
   "source": "# Usage List",
   "id": "e762e0d65fd59e8a"
  },
  {
   "metadata": {
    "ExecuteTime": {
     "end_time": "2025-03-12T09:38:27.308089Z",
     "start_time": "2025-03-12T09:38:27.296577Z"
    }
   },
   "cell_type": "code",
   "source": [
    "a_list = [10, 29, 33]   #a_list 리스트 생성 [10, 29, 33]\n",
    "a_list.append(44)       #a_list에 44 추가  [10, 29, 33, 44]\n",
    "b_list = a_list         #alias(a_list의 별칭) 생성      \n",
    "b_list.append(55)       #b_list에 데이터 추가 [10, 29, 33, 44, 55] \n",
    "print('a list : {}'.format(a_list))           #a_list에 반영"
   ],
   "id": "1ceaa3500fe1f217",
   "outputs": [
    {
     "name": "stdout",
     "output_type": "stream",
     "text": [
      "a list : [10, 29, 33, 44, 55]\n"
     ]
    }
   ],
   "execution_count": 42
  },
  {
   "metadata": {
    "ExecuteTime": {
     "end_time": "2025-03-12T09:38:28.183878Z",
     "start_time": "2025-03-12T09:38:28.175371Z"
    }
   },
   "cell_type": "code",
   "source": [
    "a_list = list([1,2,3,4,5])  #list 생성\n",
    "#리스트 복사(얕은복사), 깊은 복사는 copy.deepcopy\n",
    "b_list = a_list[:] \n",
    "a_list.append([6,7,8]) #원소 [6,7,8]을 가진 리스트가 추가 됨     \n",
    "b_list.extend([6,7,8]) #3개의 원소 6,7,8이 추가 됨\n",
    "print('a_list = {}\\nb_list = {}'.format(a_list, b_list))"
   ],
   "id": "85afb0e42a8bf7df",
   "outputs": [
    {
     "name": "stdout",
     "output_type": "stream",
     "text": [
      "a_list = [1, 2, 3, 4, 5, [6, 7, 8]]\n",
      "b_list = [1, 2, 3, 4, 5, 6, 7, 8]\n"
     ]
    }
   ],
   "execution_count": 43
  },
  {
   "metadata": {
    "ExecuteTime": {
     "end_time": "2025-03-12T09:48:41.218750Z",
     "start_time": "2025-03-12T09:48:41.203723Z"
    }
   },
   "cell_type": "code",
   "source": [
    "a_list = list([1,2,3,4,5]); b_list = [6,7,8,9,10]\n",
    "\n",
    "print(a_list, ' ', b_list)\n",
    "for item in a_list: print(item, end=' ')\n",
    "print('\\n')\n",
    "for index, item in enumerate(b_list, 1):\n",
    "    print('{}. {}'.format(index, item))"
   ],
   "id": "26a455efbec884bf",
   "outputs": [
    {
     "name": "stdout",
     "output_type": "stream",
     "text": [
      "[1, 2, 3, 4, 5]   [6, 7, 8, 9, 10]\n",
      "1 2 3 4 5 \n",
      "\n",
      "1. 6\n",
      "2. 7\n",
      "3. 8\n",
      "4. 9\n",
      "5. 10\n"
     ]
    }
   ],
   "execution_count": 52
  },
  {
   "metadata": {
    "ExecuteTime": {
     "end_time": "2025-03-12T09:44:06.958996Z",
     "start_time": "2025-03-12T09:44:06.943977Z"
    }
   },
   "cell_type": "code",
   "source": [
    "a_list = list([1,2,3,4])\n",
    "print('initial a_list : {}'.format(a_list))\n",
    "\n",
    "a_list *= 2\n",
    "print('a_list *=2 : {}'.format(a_list))\n",
    "\n",
    "for i in range(len(a_list)):\n",
    "    a_list[i] *= 2\n",
    "print('a_list[i] *=2 : {}'.format(a_list))\n",
    "\n",
    "print('sorted list : {}'.format(sorted(a_list)))\n",
    "print('reverse list : {}'.format(list(reversed(a_list))))\n",
    "\n",
    "print('max = {}, min = {}'.format(max(a_list), min(a_list)))\n",
    "print('sum = {}, avg = {:.3f}'.format(sum(a_list), sum(a_list)/len(a_list)))"
   ],
   "id": "2ab2c204f034a65",
   "outputs": [
    {
     "name": "stdout",
     "output_type": "stream",
     "text": [
      "initial a_list : [1, 2, 3, 4]\n",
      "a_list *=2 : [1, 2, 3, 4, 1, 2, 3, 4]\n",
      "a_list[i] *=2 : [2, 4, 6, 8, 2, 4, 6, 8]\n",
      "sorted list : [2, 2, 4, 4, 6, 6, 8, 8]\n",
      "reverse list : [8, 6, 4, 2, 8, 6, 4, 2]\n",
      "max = 8, min = 2\n",
      "sum = 40, avg = 5.000\n"
     ]
    }
   ],
   "execution_count": 48
  },
  {
   "metadata": {
    "ExecuteTime": {
     "end_time": "2025-03-12T09:44:19.545119Z",
     "start_time": "2025-03-12T09:44:19.526097Z"
    }
   },
   "cell_type": "code",
   "source": [
    "a_list = [1,2,3,4,5]\n",
    "\n",
    "a_list.clear()\n",
    "a_list.append(10)\n",
    "a_list.extend([30, 20, 30])\n",
    "a_list.insert(0, 0) #insert(index, value)\n",
    "a_list.insert(100, 50) #100이 너무 크므로, 맨 뒤에 50이 들어감\n",
    "\n",
    "print('after append, extend, insert : {}'.format(a_list))\n",
    "\n",
    "a_list.remove(0)\n",
    "print('after remove : {}'.format(a_list))\n",
    "\n",
    "print('10은 {}회 출현. {}번째 방에 있음.'.format(a_list.count(10), a_list.index(10)))\n",
    "\n",
    "a_list.sort();      print(a_list)\n",
    "a_list.reverse();    print(a_list)"
   ],
   "id": "91255c324d201f78",
   "outputs": [
    {
     "name": "stdout",
     "output_type": "stream",
     "text": [
      "after append, extend, insert : [0, 10, 30, 20, 30, 50]\n",
      "after remove : [10, 30, 20, 30, 50]\n",
      "10은 1회 출현. 0번째 방에 있음.\n",
      "[10, 20, 30, 30, 50]\n",
      "[50, 30, 30, 20, 10]\n"
     ]
    }
   ],
   "execution_count": 49
  },
  {
   "metadata": {
    "ExecuteTime": {
     "end_time": "2025-03-12T09:44:31.774975Z",
     "start_time": "2025-03-12T09:44:31.755457Z"
    }
   },
   "cell_type": "code",
   "source": [
    "a_list = [1.2345, 0.32345, 1.344645, 43.2324, 0.33211]\n",
    "\n",
    "print('a_list : {}'.format(a_list))\n",
    "for index, value in enumerate(a_list):\n",
    "    print('a_list[{:2d}] : {:6.3f}'.format(index, value))\n",
    "\n",
    "b_list = []\n",
    "for value in a_list:\n",
    "    b_list.append(value)\n",
    "print('b_list : {}'.format(b_list))\n",
    "\n",
    "#(컴프리핸션, 내포 - comprehension)\n",
    "b_list = [round(value) for value in a_list]\n",
    "print('b_list : {}'.format(b_list))\n",
    "\n",
    "#1보다 큰 수만 생성\n",
    "b_list = [value for value in a_list if value > 1]\n",
    "print('b_list : {}'.format(b_list))"
   ],
   "id": "9eb55730093c50b9",
   "outputs": [
    {
     "name": "stdout",
     "output_type": "stream",
     "text": [
      "a_list : [1.2345, 0.32345, 1.344645, 43.2324, 0.33211]\n",
      "a_list[ 0] :  1.234\n",
      "a_list[ 1] :  0.323\n",
      "a_list[ 2] :  1.345\n",
      "a_list[ 3] : 43.232\n",
      "a_list[ 4] :  0.332\n",
      "b_list : [1.2345, 0.32345, 1.344645, 43.2324, 0.33211]\n",
      "b_list : [1, 0, 1, 43, 0]\n",
      "b_list : [1.2345, 1.344645, 43.2324]\n"
     ]
    }
   ],
   "execution_count": 50
  },
  {
   "metadata": {
    "ExecuteTime": {
     "end_time": "2025-03-12T10:26:15.457618Z",
     "start_time": "2025-03-12T10:26:15.443621Z"
    }
   },
   "cell_type": "code",
   "source": [
    "import random\n",
    "\n",
    "#1에서 100사이의 임의의 수를 100개 생성하여 리스트를 만든다\n",
    "a_list = [random.randrange(1, 100) for _ in range(0,100)]\n",
    "\n",
    "#리스트 전체 출력\n",
    "print('a_list : {}'.format(a_list))\n",
    "\n",
    "#리스트 값을 [index] : value 형식으로 한 줄에 5개씩 출력\n",
    "for i, v in enumerate(a_list):\n",
    "    print('[{:2d}] : {:2d}'.format(i, v), end=' ')\n",
    "    if (i+1) % 5 == 0:\n",
    "        print(' ')\n",
    "\n",
    "#리스트 값을 처음부터 10개씩 나누어 슬라이싱한 것을 출력\n",
    "start, step = 0, 10        \n",
    "for i in range(0, len(a_list), step):\n",
    "    end = i+step\n",
    "    print('{}'.format(a_list[start:end]))\n",
    "    start = end\n",
    "\n",
    "b_list =[]\n",
    "for a in a_list:\n",
    "    if a>= 30 and a<=60:\n",
    "        b_list.append(a)\n",
    "print('b_list : {}'.format(b_list))\n",
    "\n",
    "mean = sum(b_list)/len(b_list)\n",
    "    \n",
    "print(f\"평균: {mean}\")"
   ],
   "id": "74d27999d2f5b60",
   "outputs": [
    {
     "name": "stdout",
     "output_type": "stream",
     "text": [
      "a_list : [9, 4, 49, 84, 74, 87, 94, 41, 35, 5, 52, 84, 81, 35, 24, 92, 79, 2, 15, 62, 32, 36, 73, 82, 67, 97, 88, 8, 17, 83, 65, 55, 60, 42, 4, 34, 70, 86, 74, 70, 48, 69, 21, 84, 41, 14, 45, 12, 55, 6, 73, 9, 97, 54, 63, 65, 41, 71, 65, 92, 66, 3, 38, 93, 81, 80, 39, 33, 31, 33, 12, 71, 92, 54, 70, 84, 79, 46, 70, 11, 98, 66, 40, 49, 31, 55, 34, 80, 17, 3, 73, 27, 56, 42, 19, 50, 82, 26, 7, 76]\n",
      "[ 0] :  9 [ 1] :  4 [ 2] : 49 [ 3] : 84 [ 4] : 74  \n",
      "[ 5] : 87 [ 6] : 94 [ 7] : 41 [ 8] : 35 [ 9] :  5  \n",
      "[10] : 52 [11] : 84 [12] : 81 [13] : 35 [14] : 24  \n",
      "[15] : 92 [16] : 79 [17] :  2 [18] : 15 [19] : 62  \n",
      "[20] : 32 [21] : 36 [22] : 73 [23] : 82 [24] : 67  \n",
      "[25] : 97 [26] : 88 [27] :  8 [28] : 17 [29] : 83  \n",
      "[30] : 65 [31] : 55 [32] : 60 [33] : 42 [34] :  4  \n",
      "[35] : 34 [36] : 70 [37] : 86 [38] : 74 [39] : 70  \n",
      "[40] : 48 [41] : 69 [42] : 21 [43] : 84 [44] : 41  \n",
      "[45] : 14 [46] : 45 [47] : 12 [48] : 55 [49] :  6  \n",
      "[50] : 73 [51] :  9 [52] : 97 [53] : 54 [54] : 63  \n",
      "[55] : 65 [56] : 41 [57] : 71 [58] : 65 [59] : 92  \n",
      "[60] : 66 [61] :  3 [62] : 38 [63] : 93 [64] : 81  \n",
      "[65] : 80 [66] : 39 [67] : 33 [68] : 31 [69] : 33  \n",
      "[70] : 12 [71] : 71 [72] : 92 [73] : 54 [74] : 70  \n",
      "[75] : 84 [76] : 79 [77] : 46 [78] : 70 [79] : 11  \n",
      "[80] : 98 [81] : 66 [82] : 40 [83] : 49 [84] : 31  \n",
      "[85] : 55 [86] : 34 [87] : 80 [88] : 17 [89] :  3  \n",
      "[90] : 73 [91] : 27 [92] : 56 [93] : 42 [94] : 19  \n",
      "[95] : 50 [96] : 82 [97] : 26 [98] :  7 [99] : 76  \n",
      "[9, 4, 49, 84, 74, 87, 94, 41, 35, 5]\n",
      "[52, 84, 81, 35, 24, 92, 79, 2, 15, 62]\n",
      "[32, 36, 73, 82, 67, 97, 88, 8, 17, 83]\n",
      "[65, 55, 60, 42, 4, 34, 70, 86, 74, 70]\n",
      "[48, 69, 21, 84, 41, 14, 45, 12, 55, 6]\n",
      "[73, 9, 97, 54, 63, 65, 41, 71, 65, 92]\n",
      "[66, 3, 38, 93, 81, 80, 39, 33, 31, 33]\n",
      "[12, 71, 92, 54, 70, 84, 79, 46, 70, 11]\n",
      "[98, 66, 40, 49, 31, 55, 34, 80, 17, 3]\n",
      "[73, 27, 56, 42, 19, 50, 82, 26, 7, 76]\n",
      "b_list : [49, 41, 35, 52, 35, 32, 36, 55, 60, 42, 34, 48, 41, 45, 55, 54, 41, 38, 39, 33, 31, 33, 54, 46, 40, 49, 31, 55, 34, 56, 42, 50]\n",
      "평균: 43.3125\n"
     ]
    }
   ],
   "execution_count": 79
  },
  {
   "metadata": {},
   "cell_type": "code",
   "outputs": [],
   "execution_count": null,
   "source": "",
   "id": "9016482d060b13bb"
  }
 ],
 "metadata": {
  "kernelspec": {
   "display_name": "Python 3",
   "language": "python",
   "name": "python3"
  },
  "language_info": {
   "codemirror_mode": {
    "name": "ipython",
    "version": 2
   },
   "file_extension": ".py",
   "mimetype": "text/x-python",
   "name": "python",
   "nbconvert_exporter": "python",
   "pygments_lexer": "ipython2",
   "version": "2.7.6"
  }
 },
 "nbformat": 4,
 "nbformat_minor": 5
}
