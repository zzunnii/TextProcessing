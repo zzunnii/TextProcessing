{
 "cells": [
  {
   "cell_type": "code",
   "id": "initial_id",
   "metadata": {
    "collapsed": true,
    "ExecuteTime": {
     "end_time": "2025-04-12T15:09:38.737375Z",
     "start_time": "2025-04-12T15:09:37.014417Z"
    }
   },
   "source": [
    "from nltk import FreqDist\n",
    "import numpy as np\n",
    "import re\n",
    "\n",
    "def buildDict(docs):\n",
    "    doc_tokens = []     # python list\n",
    "    for doc in docs:\n",
    "        delim = re.compile(r'[\\s,.]+')\n",
    "        tokens = delim.split(doc.lower()) \n",
    "        if tokens[-1] == '' :   tokens = tokens[:-1] \n",
    "        doc_tokens.append(tokens)\n",
    "\n",
    "    vocab = FreqDist(np.hstack(doc_tokens))\n",
    "    vocab = vocab.most_common()\n",
    "    word_to_id = {word[0] : id for id, word in enumerate(vocab)}\n",
    "    id_to_word = {id : word[0] for id, word in enumerate(vocab)}\n",
    "    return doc_tokens, vocab, word_to_id, id_to_word"
   ],
   "outputs": [],
   "execution_count": 1
  },
  {
   "metadata": {
    "ExecuteTime": {
     "end_time": "2025-04-12T15:09:40.476415Z",
     "start_time": "2025-04-12T15:09:40.466906Z"
    }
   },
   "cell_type": "code",
   "source": [
    "docs = []\n",
    "docs.append('To do is to be. To be is to do.')\n",
    "docs.append('To be or not to be. I am what I am')\n",
    "docs.append('I think therefore I am. Do be do be do.')\n",
    "docs.append('Do do do da da da. Let it be let it be.')\n",
    "\n",
    "doc_tokens, vocab, word_to_id, id_to_word = buildDict(docs)"
   ],
   "id": "6519dbfa1d1f72e1",
   "outputs": [],
   "execution_count": 2
  },
  {
   "metadata": {
    "ExecuteTime": {
     "end_time": "2025-04-12T15:09:48.407781Z",
     "start_time": "2025-04-12T15:09:48.403779Z"
    }
   },
   "cell_type": "code",
   "source": [
    "from collections import Counter\n",
    "import math\n",
    "\n",
    "tf_vectors = []\n",
    "for doc in doc_tokens:\n",
    "    vec = [0.0 for _ in range((len(word_to_id)))] #사전 길이 리스트\n",
    "    word_count = Counter(doc)     #단어별 문서 내 출현빈도\n",
    "    for key, value in word_count.items():\n",
    "        vec[word_to_id[key]] = 1+ math.log2(value) #tf계산\n",
    "    tf_vectors.append(vec)"
   ],
   "id": "5deb0213b6a954dd",
   "outputs": [],
   "execution_count": 3
  },
  {
   "metadata": {
    "ExecuteTime": {
     "end_time": "2025-04-12T15:09:49.237037Z",
     "start_time": "2025-04-12T15:09:49.217019Z"
    }
   },
   "cell_type": "code",
   "source": [
    "import pandas as pd\n",
    "\n",
    "df = pd.DataFrame(tf_vectors, columns=id_to_word.values())\n",
    "print(df)"
   ],
   "id": "5c926818f3387de6",
   "outputs": [
    {
     "name": "stdout",
     "output_type": "stream",
     "text": [
      "         do   be   to    i   am        da   is  let   it   or  not  what  \\\n",
      "0  2.000000  2.0  3.0  0.0  0.0  0.000000  2.0  0.0  0.0  0.0  0.0   0.0   \n",
      "1  0.000000  2.0  2.0  2.0  2.0  0.000000  0.0  0.0  0.0  1.0  1.0   1.0   \n",
      "2  2.584963  2.0  0.0  2.0  1.0  0.000000  0.0  0.0  0.0  0.0  0.0   0.0   \n",
      "3  2.584963  2.0  0.0  0.0  0.0  2.584963  0.0  2.0  2.0  0.0  0.0   0.0   \n",
      "\n",
      "   think  therefore  \n",
      "0    0.0        0.0  \n",
      "1    0.0        0.0  \n",
      "2    1.0        1.0  \n",
      "3    0.0        0.0  \n"
     ]
    }
   ],
   "execution_count": 4
  },
  {
   "metadata": {
    "ExecuteTime": {
     "end_time": "2025-04-12T15:09:52.814902Z",
     "start_time": "2025-04-12T15:09:52.799391Z"
    }
   },
   "cell_type": "code",
   "source": [
    "idf = {}\n",
    "for id, _ in id_to_word.items():\n",
    "    idf[id] = 0.0\n",
    "    for doc in tf_vectors:\n",
    "        if doc[id] > 0:\n",
    "            idf[id] += 1"
   ],
   "id": "e72df46b4ed90781",
   "outputs": [],
   "execution_count": 5
  },
  {
   "metadata": {
    "ExecuteTime": {
     "end_time": "2025-04-12T15:09:56.074276Z",
     "start_time": "2025-04-12T15:09:56.070275Z"
    }
   },
   "cell_type": "code",
   "source": [
    "N = len(tf_vectors)\n",
    "idf = {id : math.log2(N/val) for id, val in idf.items()}"
   ],
   "id": "c5a01e8215953a14",
   "outputs": [],
   "execution_count": 6
  },
  {
   "metadata": {
    "ExecuteTime": {
     "end_time": "2025-04-12T15:09:58.631751Z",
     "start_time": "2025-04-12T15:09:58.622243Z"
    }
   },
   "cell_type": "code",
   "source": [
    "df = pd.Series(idf.values(), index=idf.keys())\n",
    "print(df)"
   ],
   "id": "58e8c3c70a8d044f",
   "outputs": [
    {
     "name": "stdout",
     "output_type": "stream",
     "text": [
      "0     0.415037\n",
      "1     0.000000\n",
      "2     1.000000\n",
      "3     1.000000\n",
      "4     1.000000\n",
      "5     2.000000\n",
      "6     2.000000\n",
      "7     2.000000\n",
      "8     2.000000\n",
      "9     2.000000\n",
      "10    2.000000\n",
      "11    2.000000\n",
      "12    2.000000\n",
      "13    2.000000\n",
      "dtype: float64\n"
     ]
    }
   ],
   "execution_count": 7
  },
  {
   "metadata": {
    "ExecuteTime": {
     "end_time": "2025-04-12T15:10:01.820130Z",
     "start_time": "2025-04-12T15:10:01.814622Z"
    }
   },
   "cell_type": "code",
   "source": [
    "import numpy as np\n",
    "\n",
    "idf_list = [val for _, val in idf.items()]\n",
    "tfidf = np.array([np.multiply(tf, idf_list) for tf in tf_vectors])"
   ],
   "id": "d17172a92f2da1c3",
   "outputs": [],
   "execution_count": 8
  },
  {
   "metadata": {
    "ExecuteTime": {
     "end_time": "2025-04-12T15:10:04.682843Z",
     "start_time": "2025-04-12T15:10:04.662965Z"
    }
   },
   "cell_type": "code",
   "source": [
    "df = pd.DataFrame(tfidf, columns=id_to_word.values())\n",
    "df"
   ],
   "id": "c291b4e60fd55d5f",
   "outputs": [
    {
     "data": {
      "text/plain": [
       "         do   be   to    i   am        da   is  let   it   or  not  what  \\\n",
       "0  0.830075  0.0  3.0  0.0  0.0  0.000000  4.0  0.0  0.0  0.0  0.0   0.0   \n",
       "1  0.000000  0.0  2.0  2.0  2.0  0.000000  0.0  0.0  0.0  2.0  2.0   2.0   \n",
       "2  1.072856  0.0  0.0  2.0  1.0  0.000000  0.0  0.0  0.0  0.0  0.0   0.0   \n",
       "3  1.072856  0.0  0.0  0.0  0.0  5.169925  0.0  4.0  4.0  0.0  0.0   0.0   \n",
       "\n",
       "   think  therefore  \n",
       "0    0.0        0.0  \n",
       "1    0.0        0.0  \n",
       "2    2.0        2.0  \n",
       "3    0.0        0.0  "
      ],
      "text/html": [
       "<div>\n",
       "<style scoped>\n",
       "    .dataframe tbody tr th:only-of-type {\n",
       "        vertical-align: middle;\n",
       "    }\n",
       "\n",
       "    .dataframe tbody tr th {\n",
       "        vertical-align: top;\n",
       "    }\n",
       "\n",
       "    .dataframe thead th {\n",
       "        text-align: right;\n",
       "    }\n",
       "</style>\n",
       "<table border=\"1\" class=\"dataframe\">\n",
       "  <thead>\n",
       "    <tr style=\"text-align: right;\">\n",
       "      <th></th>\n",
       "      <th>do</th>\n",
       "      <th>be</th>\n",
       "      <th>to</th>\n",
       "      <th>i</th>\n",
       "      <th>am</th>\n",
       "      <th>da</th>\n",
       "      <th>is</th>\n",
       "      <th>let</th>\n",
       "      <th>it</th>\n",
       "      <th>or</th>\n",
       "      <th>not</th>\n",
       "      <th>what</th>\n",
       "      <th>think</th>\n",
       "      <th>therefore</th>\n",
       "    </tr>\n",
       "  </thead>\n",
       "  <tbody>\n",
       "    <tr>\n",
       "      <th>0</th>\n",
       "      <td>0.830075</td>\n",
       "      <td>0.0</td>\n",
       "      <td>3.0</td>\n",
       "      <td>0.0</td>\n",
       "      <td>0.0</td>\n",
       "      <td>0.000000</td>\n",
       "      <td>4.0</td>\n",
       "      <td>0.0</td>\n",
       "      <td>0.0</td>\n",
       "      <td>0.0</td>\n",
       "      <td>0.0</td>\n",
       "      <td>0.0</td>\n",
       "      <td>0.0</td>\n",
       "      <td>0.0</td>\n",
       "    </tr>\n",
       "    <tr>\n",
       "      <th>1</th>\n",
       "      <td>0.000000</td>\n",
       "      <td>0.0</td>\n",
       "      <td>2.0</td>\n",
       "      <td>2.0</td>\n",
       "      <td>2.0</td>\n",
       "      <td>0.000000</td>\n",
       "      <td>0.0</td>\n",
       "      <td>0.0</td>\n",
       "      <td>0.0</td>\n",
       "      <td>2.0</td>\n",
       "      <td>2.0</td>\n",
       "      <td>2.0</td>\n",
       "      <td>0.0</td>\n",
       "      <td>0.0</td>\n",
       "    </tr>\n",
       "    <tr>\n",
       "      <th>2</th>\n",
       "      <td>1.072856</td>\n",
       "      <td>0.0</td>\n",
       "      <td>0.0</td>\n",
       "      <td>2.0</td>\n",
       "      <td>1.0</td>\n",
       "      <td>0.000000</td>\n",
       "      <td>0.0</td>\n",
       "      <td>0.0</td>\n",
       "      <td>0.0</td>\n",
       "      <td>0.0</td>\n",
       "      <td>0.0</td>\n",
       "      <td>0.0</td>\n",
       "      <td>2.0</td>\n",
       "      <td>2.0</td>\n",
       "    </tr>\n",
       "    <tr>\n",
       "      <th>3</th>\n",
       "      <td>1.072856</td>\n",
       "      <td>0.0</td>\n",
       "      <td>0.0</td>\n",
       "      <td>0.0</td>\n",
       "      <td>0.0</td>\n",
       "      <td>5.169925</td>\n",
       "      <td>0.0</td>\n",
       "      <td>4.0</td>\n",
       "      <td>4.0</td>\n",
       "      <td>0.0</td>\n",
       "      <td>0.0</td>\n",
       "      <td>0.0</td>\n",
       "      <td>0.0</td>\n",
       "      <td>0.0</td>\n",
       "    </tr>\n",
       "  </tbody>\n",
       "</table>\n",
       "</div>"
      ]
     },
     "execution_count": 9,
     "metadata": {},
     "output_type": "execute_result"
    }
   ],
   "execution_count": 9
  },
  {
   "metadata": {
    "ExecuteTime": {
     "end_time": "2025-04-12T15:10:08.181149Z",
     "start_time": "2025-04-12T15:10:08.174999Z"
    }
   },
   "cell_type": "code",
   "source": "print(df.T)",
   "id": "9d5e385725aedaf5",
   "outputs": [
    {
     "name": "stdout",
     "output_type": "stream",
     "text": [
      "                  0    1         2         3\n",
      "do         0.830075  0.0  1.072856  1.072856\n",
      "be         0.000000  0.0  0.000000  0.000000\n",
      "to         3.000000  2.0  0.000000  0.000000\n",
      "i          0.000000  2.0  2.000000  0.000000\n",
      "am         0.000000  2.0  1.000000  0.000000\n",
      "da         0.000000  0.0  0.000000  5.169925\n",
      "is         4.000000  0.0  0.000000  0.000000\n",
      "let        0.000000  0.0  0.000000  4.000000\n",
      "it         0.000000  0.0  0.000000  4.000000\n",
      "or         0.000000  2.0  0.000000  0.000000\n",
      "not        0.000000  2.0  0.000000  0.000000\n",
      "what       0.000000  2.0  0.000000  0.000000\n",
      "think      0.000000  0.0  2.000000  0.000000\n",
      "therefore  0.000000  0.0  2.000000  0.000000\n"
     ]
    }
   ],
   "execution_count": 10
  },
  {
   "metadata": {
    "ExecuteTime": {
     "end_time": "2025-04-12T15:10:12.322383Z",
     "start_time": "2025-04-12T15:10:12.310872Z"
    }
   },
   "cell_type": "code",
   "source": [
    "from nltk import FreqDist\n",
    "import numpy as np\n",
    "import re\n",
    "\n",
    "def buildDict(docs):\n",
    "    doc_tokens = []     # python list\n",
    "    for doc in docs:\n",
    "        delim = re.compile(r'[\\s,.]+')\n",
    "        tokens = delim.split(doc.lower()) \n",
    "        if tokens[-1] == '' :   tokens = tokens[:-1] \n",
    "        doc_tokens.append(tokens)\n",
    "\n",
    "    vocab = FreqDist(np.hstack(doc_tokens))\n",
    "    vocab = vocab.most_common()\n",
    "    word_to_id = {word[0] : id for id, word in enumerate(vocab)}\n",
    "    id_to_word = {id : word[0] for id, word in enumerate(vocab)}\n",
    "    return doc_tokens, vocab, word_to_id, id_to_word"
   ],
   "id": "eb5fd268e03a9318",
   "outputs": [],
   "execution_count": 11
  },
  {
   "metadata": {
    "ExecuteTime": {
     "end_time": "2025-04-12T15:10:15.352250Z",
     "start_time": "2025-04-12T15:10:15.334410Z"
    }
   },
   "cell_type": "code",
   "source": [
    "from collections import Counter\n",
    "import math\n",
    "import numpy as np\n",
    "\n",
    "def TFIDF(doc_tokens, id_to_word):\n",
    "    tf_vectors = []\n",
    "    idf = {}\n",
    "\n",
    "    #TF 구하기\n",
    "    for doc in doc_tokens:\n",
    "        vec = [0.0 for _ in range((len(id_to_word)))]\n",
    "        word_count = Counter(doc)\n",
    "        for key, value in word_count.items():\n",
    "            vec[word_to_id[key]] = value\n",
    "            #vec[word_to_id[key]] = 1+ math.log2(value) #tf계산\n",
    "        tf_vectors.append(vec)\n",
    "    \n",
    "    #IDF 구하기\n",
    "    for id, _ in id_to_word.items():\n",
    "        idf[id] = 0.0\n",
    "        for doc in tf_vectors:\n",
    "            if doc[id] > 0:\n",
    "                idf[id] += 1\n",
    "    N = len(tf_vectors)            \n",
    "    idf = {id : np.log((N+1)/(val+1))+1 for id, val in idf.items()}\n",
    "\n",
    "    #TF-IDF 구하기\n",
    "    idf_list = [val for _, val in idf.items()]\n",
    "    tfidf = np.array([np.multiply(tf, idf_list) for tf in tf_vectors])\n",
    "\n",
    "    return tf_vectors, idf, tfidf"
   ],
   "id": "8f0681a9ec25c277",
   "outputs": [],
   "execution_count": 12
  },
  {
   "metadata": {
    "ExecuteTime": {
     "end_time": "2025-04-12T15:10:18.265798Z",
     "start_time": "2025-04-12T15:10:18.251788Z"
    }
   },
   "cell_type": "code",
   "source": [
    "docs = []\n",
    "docs.append('To do is to be. To be is to do.')\n",
    "docs.append('To be or not to be. I am what I am')\n",
    "docs.append('I think therefore I am. Do be do be do.')\n",
    "docs.append('Do do do da da da. Let it be let it be.')\n",
    "\n",
    "doc_tokens, vocab, word_to_id, id_to_word = buildDict(docs)\n",
    "tf_vectors, idf, tfidf = TFIDF(doc_tokens, id_to_word)"
   ],
   "id": "3591a088751e3cb5",
   "outputs": [],
   "execution_count": 13
  },
  {
   "metadata": {
    "ExecuteTime": {
     "end_time": "2025-04-12T15:10:22.180481Z",
     "start_time": "2025-04-12T15:10:22.158906Z"
    }
   },
   "cell_type": "code",
   "source": [
    "import pandas as pd\n",
    "\n",
    "pd.DataFrame(tfidf, columns=word_to_id.keys())"
   ],
   "id": "b8a266a63c0d3fd9",
   "outputs": [
    {
     "data": {
      "text/plain": [
       "         do   be        to         i        am        da        is       let  \\\n",
       "0  2.446287  2.0  6.043302  0.000000  0.000000  0.000000  3.832581  0.000000   \n",
       "1  0.000000  2.0  3.021651  3.021651  3.021651  0.000000  0.000000  0.000000   \n",
       "2  3.669431  2.0  0.000000  3.021651  1.510826  0.000000  0.000000  0.000000   \n",
       "3  3.669431  2.0  0.000000  0.000000  0.000000  5.748872  0.000000  3.832581   \n",
       "\n",
       "         it        or       not      what     think  therefore  \n",
       "0  0.000000  0.000000  0.000000  0.000000  0.000000   0.000000  \n",
       "1  0.000000  1.916291  1.916291  1.916291  0.000000   0.000000  \n",
       "2  0.000000  0.000000  0.000000  0.000000  1.916291   1.916291  \n",
       "3  3.832581  0.000000  0.000000  0.000000  0.000000   0.000000  "
      ],
      "text/html": [
       "<div>\n",
       "<style scoped>\n",
       "    .dataframe tbody tr th:only-of-type {\n",
       "        vertical-align: middle;\n",
       "    }\n",
       "\n",
       "    .dataframe tbody tr th {\n",
       "        vertical-align: top;\n",
       "    }\n",
       "\n",
       "    .dataframe thead th {\n",
       "        text-align: right;\n",
       "    }\n",
       "</style>\n",
       "<table border=\"1\" class=\"dataframe\">\n",
       "  <thead>\n",
       "    <tr style=\"text-align: right;\">\n",
       "      <th></th>\n",
       "      <th>do</th>\n",
       "      <th>be</th>\n",
       "      <th>to</th>\n",
       "      <th>i</th>\n",
       "      <th>am</th>\n",
       "      <th>da</th>\n",
       "      <th>is</th>\n",
       "      <th>let</th>\n",
       "      <th>it</th>\n",
       "      <th>or</th>\n",
       "      <th>not</th>\n",
       "      <th>what</th>\n",
       "      <th>think</th>\n",
       "      <th>therefore</th>\n",
       "    </tr>\n",
       "  </thead>\n",
       "  <tbody>\n",
       "    <tr>\n",
       "      <th>0</th>\n",
       "      <td>2.446287</td>\n",
       "      <td>2.0</td>\n",
       "      <td>6.043302</td>\n",
       "      <td>0.000000</td>\n",
       "      <td>0.000000</td>\n",
       "      <td>0.000000</td>\n",
       "      <td>3.832581</td>\n",
       "      <td>0.000000</td>\n",
       "      <td>0.000000</td>\n",
       "      <td>0.000000</td>\n",
       "      <td>0.000000</td>\n",
       "      <td>0.000000</td>\n",
       "      <td>0.000000</td>\n",
       "      <td>0.000000</td>\n",
       "    </tr>\n",
       "    <tr>\n",
       "      <th>1</th>\n",
       "      <td>0.000000</td>\n",
       "      <td>2.0</td>\n",
       "      <td>3.021651</td>\n",
       "      <td>3.021651</td>\n",
       "      <td>3.021651</td>\n",
       "      <td>0.000000</td>\n",
       "      <td>0.000000</td>\n",
       "      <td>0.000000</td>\n",
       "      <td>0.000000</td>\n",
       "      <td>1.916291</td>\n",
       "      <td>1.916291</td>\n",
       "      <td>1.916291</td>\n",
       "      <td>0.000000</td>\n",
       "      <td>0.000000</td>\n",
       "    </tr>\n",
       "    <tr>\n",
       "      <th>2</th>\n",
       "      <td>3.669431</td>\n",
       "      <td>2.0</td>\n",
       "      <td>0.000000</td>\n",
       "      <td>3.021651</td>\n",
       "      <td>1.510826</td>\n",
       "      <td>0.000000</td>\n",
       "      <td>0.000000</td>\n",
       "      <td>0.000000</td>\n",
       "      <td>0.000000</td>\n",
       "      <td>0.000000</td>\n",
       "      <td>0.000000</td>\n",
       "      <td>0.000000</td>\n",
       "      <td>1.916291</td>\n",
       "      <td>1.916291</td>\n",
       "    </tr>\n",
       "    <tr>\n",
       "      <th>3</th>\n",
       "      <td>3.669431</td>\n",
       "      <td>2.0</td>\n",
       "      <td>0.000000</td>\n",
       "      <td>0.000000</td>\n",
       "      <td>0.000000</td>\n",
       "      <td>5.748872</td>\n",
       "      <td>0.000000</td>\n",
       "      <td>3.832581</td>\n",
       "      <td>3.832581</td>\n",
       "      <td>0.000000</td>\n",
       "      <td>0.000000</td>\n",
       "      <td>0.000000</td>\n",
       "      <td>0.000000</td>\n",
       "      <td>0.000000</td>\n",
       "    </tr>\n",
       "  </tbody>\n",
       "</table>\n",
       "</div>"
      ]
     },
     "execution_count": 14,
     "metadata": {},
     "output_type": "execute_result"
    }
   ],
   "execution_count": 14
  },
  {
   "metadata": {
    "ExecuteTime": {
     "end_time": "2025-04-12T15:10:25.512823Z",
     "start_time": "2025-04-12T15:10:25.491802Z"
    }
   },
   "cell_type": "code",
   "source": [
    "tfidf_l1 = np.array([vec / np.sum(vec) for vec in tfidf]) #l1 norm\n",
    "pd.DataFrame(tfidf_l1, columns=word_to_id.keys())"
   ],
   "id": "468c5d03e52bb5f2",
   "outputs": [
    {
     "data": {
      "text/plain": [
       "         do        be        to         i        am        da        is  \\\n",
       "0  0.170804  0.139644  0.421954  0.000000  0.000000  0.000000  0.267598   \n",
       "1  0.000000  0.118950  0.179712  0.179712  0.179712  0.000000  0.000000   \n",
       "2  0.261458  0.142506  0.000000  0.215302  0.107651  0.000000  0.000000   \n",
       "3  0.192283  0.104803  0.000000  0.000000  0.000000  0.301249  0.000000   \n",
       "\n",
       "        let        it        or       not      what     think  therefore  \n",
       "0  0.000000  0.000000  0.000000  0.000000  0.000000  0.000000   0.000000  \n",
       "1  0.000000  0.000000  0.113971  0.113971  0.113971  0.000000   0.000000  \n",
       "2  0.000000  0.000000  0.000000  0.000000  0.000000  0.136542   0.136542  \n",
       "3  0.200833  0.200833  0.000000  0.000000  0.000000  0.000000   0.000000  "
      ],
      "text/html": [
       "<div>\n",
       "<style scoped>\n",
       "    .dataframe tbody tr th:only-of-type {\n",
       "        vertical-align: middle;\n",
       "    }\n",
       "\n",
       "    .dataframe tbody tr th {\n",
       "        vertical-align: top;\n",
       "    }\n",
       "\n",
       "    .dataframe thead th {\n",
       "        text-align: right;\n",
       "    }\n",
       "</style>\n",
       "<table border=\"1\" class=\"dataframe\">\n",
       "  <thead>\n",
       "    <tr style=\"text-align: right;\">\n",
       "      <th></th>\n",
       "      <th>do</th>\n",
       "      <th>be</th>\n",
       "      <th>to</th>\n",
       "      <th>i</th>\n",
       "      <th>am</th>\n",
       "      <th>da</th>\n",
       "      <th>is</th>\n",
       "      <th>let</th>\n",
       "      <th>it</th>\n",
       "      <th>or</th>\n",
       "      <th>not</th>\n",
       "      <th>what</th>\n",
       "      <th>think</th>\n",
       "      <th>therefore</th>\n",
       "    </tr>\n",
       "  </thead>\n",
       "  <tbody>\n",
       "    <tr>\n",
       "      <th>0</th>\n",
       "      <td>0.170804</td>\n",
       "      <td>0.139644</td>\n",
       "      <td>0.421954</td>\n",
       "      <td>0.000000</td>\n",
       "      <td>0.000000</td>\n",
       "      <td>0.000000</td>\n",
       "      <td>0.267598</td>\n",
       "      <td>0.000000</td>\n",
       "      <td>0.000000</td>\n",
       "      <td>0.000000</td>\n",
       "      <td>0.000000</td>\n",
       "      <td>0.000000</td>\n",
       "      <td>0.000000</td>\n",
       "      <td>0.000000</td>\n",
       "    </tr>\n",
       "    <tr>\n",
       "      <th>1</th>\n",
       "      <td>0.000000</td>\n",
       "      <td>0.118950</td>\n",
       "      <td>0.179712</td>\n",
       "      <td>0.179712</td>\n",
       "      <td>0.179712</td>\n",
       "      <td>0.000000</td>\n",
       "      <td>0.000000</td>\n",
       "      <td>0.000000</td>\n",
       "      <td>0.000000</td>\n",
       "      <td>0.113971</td>\n",
       "      <td>0.113971</td>\n",
       "      <td>0.113971</td>\n",
       "      <td>0.000000</td>\n",
       "      <td>0.000000</td>\n",
       "    </tr>\n",
       "    <tr>\n",
       "      <th>2</th>\n",
       "      <td>0.261458</td>\n",
       "      <td>0.142506</td>\n",
       "      <td>0.000000</td>\n",
       "      <td>0.215302</td>\n",
       "      <td>0.107651</td>\n",
       "      <td>0.000000</td>\n",
       "      <td>0.000000</td>\n",
       "      <td>0.000000</td>\n",
       "      <td>0.000000</td>\n",
       "      <td>0.000000</td>\n",
       "      <td>0.000000</td>\n",
       "      <td>0.000000</td>\n",
       "      <td>0.136542</td>\n",
       "      <td>0.136542</td>\n",
       "    </tr>\n",
       "    <tr>\n",
       "      <th>3</th>\n",
       "      <td>0.192283</td>\n",
       "      <td>0.104803</td>\n",
       "      <td>0.000000</td>\n",
       "      <td>0.000000</td>\n",
       "      <td>0.000000</td>\n",
       "      <td>0.301249</td>\n",
       "      <td>0.000000</td>\n",
       "      <td>0.200833</td>\n",
       "      <td>0.200833</td>\n",
       "      <td>0.000000</td>\n",
       "      <td>0.000000</td>\n",
       "      <td>0.000000</td>\n",
       "      <td>0.000000</td>\n",
       "      <td>0.000000</td>\n",
       "    </tr>\n",
       "  </tbody>\n",
       "</table>\n",
       "</div>"
      ]
     },
     "execution_count": 15,
     "metadata": {},
     "output_type": "execute_result"
    }
   ],
   "execution_count": 15
  },
  {
   "metadata": {
    "ExecuteTime": {
     "end_time": "2025-04-12T15:10:28.718727Z",
     "start_time": "2025-04-12T15:10:28.700207Z"
    }
   },
   "cell_type": "code",
   "source": [
    "tfidf_l2 = np.array([vec / (np.sum(vec ** 2) ** 0.5) for vec in tfidf]) #l2 norm\n",
    "pd.DataFrame(tfidf_l2, columns=word_to_id.keys())"
   ],
   "id": "7f3065faf86a6a59",
   "outputs": [
    {
     "data": {
      "text/plain": [
       "         do        be        to         i        am        da        is  \\\n",
       "0  0.312717  0.255666  0.772535  0.000000  0.000000  0.000000  0.489931   \n",
       "1  0.000000  0.307120  0.464005  0.464005  0.464005  0.000000  0.000000   \n",
       "2  0.609695  0.332310  0.000000  0.502063  0.251031  0.000000  0.000000   \n",
       "3  0.410533  0.223758  0.000000  0.000000  0.000000  0.643179  0.000000   \n",
       "\n",
       "        let        it        or       not      what     think  therefore  \n",
       "0  0.000000  0.000000  0.000000  0.000000  0.000000  0.000000   0.000000  \n",
       "1  0.000000  0.000000  0.294266  0.294266  0.294266  0.000000   0.000000  \n",
       "2  0.000000  0.000000  0.000000  0.000000  0.000000  0.318401   0.318401  \n",
       "3  0.428786  0.428786  0.000000  0.000000  0.000000  0.000000   0.000000  "
      ],
      "text/html": [
       "<div>\n",
       "<style scoped>\n",
       "    .dataframe tbody tr th:only-of-type {\n",
       "        vertical-align: middle;\n",
       "    }\n",
       "\n",
       "    .dataframe tbody tr th {\n",
       "        vertical-align: top;\n",
       "    }\n",
       "\n",
       "    .dataframe thead th {\n",
       "        text-align: right;\n",
       "    }\n",
       "</style>\n",
       "<table border=\"1\" class=\"dataframe\">\n",
       "  <thead>\n",
       "    <tr style=\"text-align: right;\">\n",
       "      <th></th>\n",
       "      <th>do</th>\n",
       "      <th>be</th>\n",
       "      <th>to</th>\n",
       "      <th>i</th>\n",
       "      <th>am</th>\n",
       "      <th>da</th>\n",
       "      <th>is</th>\n",
       "      <th>let</th>\n",
       "      <th>it</th>\n",
       "      <th>or</th>\n",
       "      <th>not</th>\n",
       "      <th>what</th>\n",
       "      <th>think</th>\n",
       "      <th>therefore</th>\n",
       "    </tr>\n",
       "  </thead>\n",
       "  <tbody>\n",
       "    <tr>\n",
       "      <th>0</th>\n",
       "      <td>0.312717</td>\n",
       "      <td>0.255666</td>\n",
       "      <td>0.772535</td>\n",
       "      <td>0.000000</td>\n",
       "      <td>0.000000</td>\n",
       "      <td>0.000000</td>\n",
       "      <td>0.489931</td>\n",
       "      <td>0.000000</td>\n",
       "      <td>0.000000</td>\n",
       "      <td>0.000000</td>\n",
       "      <td>0.000000</td>\n",
       "      <td>0.000000</td>\n",
       "      <td>0.000000</td>\n",
       "      <td>0.000000</td>\n",
       "    </tr>\n",
       "    <tr>\n",
       "      <th>1</th>\n",
       "      <td>0.000000</td>\n",
       "      <td>0.307120</td>\n",
       "      <td>0.464005</td>\n",
       "      <td>0.464005</td>\n",
       "      <td>0.464005</td>\n",
       "      <td>0.000000</td>\n",
       "      <td>0.000000</td>\n",
       "      <td>0.000000</td>\n",
       "      <td>0.000000</td>\n",
       "      <td>0.294266</td>\n",
       "      <td>0.294266</td>\n",
       "      <td>0.294266</td>\n",
       "      <td>0.000000</td>\n",
       "      <td>0.000000</td>\n",
       "    </tr>\n",
       "    <tr>\n",
       "      <th>2</th>\n",
       "      <td>0.609695</td>\n",
       "      <td>0.332310</td>\n",
       "      <td>0.000000</td>\n",
       "      <td>0.502063</td>\n",
       "      <td>0.251031</td>\n",
       "      <td>0.000000</td>\n",
       "      <td>0.000000</td>\n",
       "      <td>0.000000</td>\n",
       "      <td>0.000000</td>\n",
       "      <td>0.000000</td>\n",
       "      <td>0.000000</td>\n",
       "      <td>0.000000</td>\n",
       "      <td>0.318401</td>\n",
       "      <td>0.318401</td>\n",
       "    </tr>\n",
       "    <tr>\n",
       "      <th>3</th>\n",
       "      <td>0.410533</td>\n",
       "      <td>0.223758</td>\n",
       "      <td>0.000000</td>\n",
       "      <td>0.000000</td>\n",
       "      <td>0.000000</td>\n",
       "      <td>0.643179</td>\n",
       "      <td>0.000000</td>\n",
       "      <td>0.428786</td>\n",
       "      <td>0.428786</td>\n",
       "      <td>0.000000</td>\n",
       "      <td>0.000000</td>\n",
       "      <td>0.000000</td>\n",
       "      <td>0.000000</td>\n",
       "      <td>0.000000</td>\n",
       "    </tr>\n",
       "  </tbody>\n",
       "</table>\n",
       "</div>"
      ]
     },
     "execution_count": 16,
     "metadata": {},
     "output_type": "execute_result"
    }
   ],
   "execution_count": 16
  },
  {
   "metadata": {
    "ExecuteTime": {
     "end_time": "2025-04-12T15:10:32.187770Z",
     "start_time": "2025-04-12T15:10:32.166595Z"
    }
   },
   "cell_type": "code",
   "source": [
    "from numpy.linalg import norm\n",
    "\n",
    "tfidf_l2 = np.array([np.divide(vec , norm(vec)) for vec in tfidf]) #l2 norm\n",
    "pd.DataFrame(tfidf_l2, columns=word_to_id.keys())"
   ],
   "id": "90ab1d068dc03fe9",
   "outputs": [
    {
     "data": {
      "text/plain": [
       "         do        be        to         i        am        da        is  \\\n",
       "0  0.312717  0.255666  0.772535  0.000000  0.000000  0.000000  0.489931   \n",
       "1  0.000000  0.307120  0.464005  0.464005  0.464005  0.000000  0.000000   \n",
       "2  0.609695  0.332310  0.000000  0.502063  0.251031  0.000000  0.000000   \n",
       "3  0.410533  0.223758  0.000000  0.000000  0.000000  0.643179  0.000000   \n",
       "\n",
       "        let        it        or       not      what     think  therefore  \n",
       "0  0.000000  0.000000  0.000000  0.000000  0.000000  0.000000   0.000000  \n",
       "1  0.000000  0.000000  0.294266  0.294266  0.294266  0.000000   0.000000  \n",
       "2  0.000000  0.000000  0.000000  0.000000  0.000000  0.318401   0.318401  \n",
       "3  0.428786  0.428786  0.000000  0.000000  0.000000  0.000000   0.000000  "
      ],
      "text/html": [
       "<div>\n",
       "<style scoped>\n",
       "    .dataframe tbody tr th:only-of-type {\n",
       "        vertical-align: middle;\n",
       "    }\n",
       "\n",
       "    .dataframe tbody tr th {\n",
       "        vertical-align: top;\n",
       "    }\n",
       "\n",
       "    .dataframe thead th {\n",
       "        text-align: right;\n",
       "    }\n",
       "</style>\n",
       "<table border=\"1\" class=\"dataframe\">\n",
       "  <thead>\n",
       "    <tr style=\"text-align: right;\">\n",
       "      <th></th>\n",
       "      <th>do</th>\n",
       "      <th>be</th>\n",
       "      <th>to</th>\n",
       "      <th>i</th>\n",
       "      <th>am</th>\n",
       "      <th>da</th>\n",
       "      <th>is</th>\n",
       "      <th>let</th>\n",
       "      <th>it</th>\n",
       "      <th>or</th>\n",
       "      <th>not</th>\n",
       "      <th>what</th>\n",
       "      <th>think</th>\n",
       "      <th>therefore</th>\n",
       "    </tr>\n",
       "  </thead>\n",
       "  <tbody>\n",
       "    <tr>\n",
       "      <th>0</th>\n",
       "      <td>0.312717</td>\n",
       "      <td>0.255666</td>\n",
       "      <td>0.772535</td>\n",
       "      <td>0.000000</td>\n",
       "      <td>0.000000</td>\n",
       "      <td>0.000000</td>\n",
       "      <td>0.489931</td>\n",
       "      <td>0.000000</td>\n",
       "      <td>0.000000</td>\n",
       "      <td>0.000000</td>\n",
       "      <td>0.000000</td>\n",
       "      <td>0.000000</td>\n",
       "      <td>0.000000</td>\n",
       "      <td>0.000000</td>\n",
       "    </tr>\n",
       "    <tr>\n",
       "      <th>1</th>\n",
       "      <td>0.000000</td>\n",
       "      <td>0.307120</td>\n",
       "      <td>0.464005</td>\n",
       "      <td>0.464005</td>\n",
       "      <td>0.464005</td>\n",
       "      <td>0.000000</td>\n",
       "      <td>0.000000</td>\n",
       "      <td>0.000000</td>\n",
       "      <td>0.000000</td>\n",
       "      <td>0.294266</td>\n",
       "      <td>0.294266</td>\n",
       "      <td>0.294266</td>\n",
       "      <td>0.000000</td>\n",
       "      <td>0.000000</td>\n",
       "    </tr>\n",
       "    <tr>\n",
       "      <th>2</th>\n",
       "      <td>0.609695</td>\n",
       "      <td>0.332310</td>\n",
       "      <td>0.000000</td>\n",
       "      <td>0.502063</td>\n",
       "      <td>0.251031</td>\n",
       "      <td>0.000000</td>\n",
       "      <td>0.000000</td>\n",
       "      <td>0.000000</td>\n",
       "      <td>0.000000</td>\n",
       "      <td>0.000000</td>\n",
       "      <td>0.000000</td>\n",
       "      <td>0.000000</td>\n",
       "      <td>0.318401</td>\n",
       "      <td>0.318401</td>\n",
       "    </tr>\n",
       "    <tr>\n",
       "      <th>3</th>\n",
       "      <td>0.410533</td>\n",
       "      <td>0.223758</td>\n",
       "      <td>0.000000</td>\n",
       "      <td>0.000000</td>\n",
       "      <td>0.000000</td>\n",
       "      <td>0.643179</td>\n",
       "      <td>0.000000</td>\n",
       "      <td>0.428786</td>\n",
       "      <td>0.428786</td>\n",
       "      <td>0.000000</td>\n",
       "      <td>0.000000</td>\n",
       "      <td>0.000000</td>\n",
       "      <td>0.000000</td>\n",
       "      <td>0.000000</td>\n",
       "    </tr>\n",
       "  </tbody>\n",
       "</table>\n",
       "</div>"
      ]
     },
     "execution_count": 17,
     "metadata": {},
     "output_type": "execute_result"
    }
   ],
   "execution_count": 17
  },
  {
   "metadata": {
    "ExecuteTime": {
     "end_time": "2025-04-12T15:10:40.690084Z",
     "start_time": "2025-04-12T15:10:36.546481Z"
    }
   },
   "cell_type": "code",
   "source": [
    "\n",
    "user = input('질의어 입력')\n",
    "delim = re.compile(r'[\\s,.]+')\n",
    "tokens = delim.split(user.lower()) \n",
    "if tokens[-1] == '' :   tokens = tokens[:-1] \n",
    "tokens"
   ],
   "id": "1d187e4610ebd557",
   "outputs": [
    {
     "data": {
      "text/plain": [
       "['to', 'do']"
      ]
     },
     "execution_count": 18,
     "metadata": {},
     "output_type": "execute_result"
    }
   ],
   "execution_count": 18
  },
  {
   "metadata": {
    "ExecuteTime": {
     "end_time": "2025-04-12T15:10:43.866966Z",
     "start_time": "2025-04-12T15:10:43.849370Z"
    }
   },
   "cell_type": "code",
   "source": [
    "user_vector = np.array([0.0 for _ in vocab])\n",
    "for token in tokens:\n",
    "    if token in word_to_id:\n",
    "        user_vector[word_to_id[token]] = idf[word_to_id[token]]\n",
    "user_vector = np.array([np.divide(user_vector , norm(user_vector))]) #l2 norm\n",
    "user_vector"
   ],
   "id": "92f198c627daa42b",
   "outputs": [
    {
     "data": {
      "text/plain": [
       "array([[0.62922751, 0.        , 0.77722116, 0.        , 0.        ,\n",
       "        0.        , 0.        , 0.        , 0.        , 0.        ,\n",
       "        0.        , 0.        , 0.        , 0.        ]])"
      ]
     },
     "execution_count": 19,
     "metadata": {},
     "output_type": "execute_result"
    }
   ],
   "execution_count": 19
  },
  {
   "metadata": {
    "ExecuteTime": {
     "end_time": "2025-04-12T15:10:47.949804Z",
     "start_time": "2025-04-12T15:10:47.937290Z"
    }
   },
   "cell_type": "code",
   "source": "pd.DataFrame(tfidf_l2, columns=word_to_id.keys())",
   "id": "7536a12c3af64ca0",
   "outputs": [
    {
     "data": {
      "text/plain": [
       "         do        be        to         i        am        da        is  \\\n",
       "0  0.312717  0.255666  0.772535  0.000000  0.000000  0.000000  0.489931   \n",
       "1  0.000000  0.307120  0.464005  0.464005  0.464005  0.000000  0.000000   \n",
       "2  0.609695  0.332310  0.000000  0.502063  0.251031  0.000000  0.000000   \n",
       "3  0.410533  0.223758  0.000000  0.000000  0.000000  0.643179  0.000000   \n",
       "\n",
       "        let        it        or       not      what     think  therefore  \n",
       "0  0.000000  0.000000  0.000000  0.000000  0.000000  0.000000   0.000000  \n",
       "1  0.000000  0.000000  0.294266  0.294266  0.294266  0.000000   0.000000  \n",
       "2  0.000000  0.000000  0.000000  0.000000  0.000000  0.318401   0.318401  \n",
       "3  0.428786  0.428786  0.000000  0.000000  0.000000  0.000000   0.000000  "
      ],
      "text/html": [
       "<div>\n",
       "<style scoped>\n",
       "    .dataframe tbody tr th:only-of-type {\n",
       "        vertical-align: middle;\n",
       "    }\n",
       "\n",
       "    .dataframe tbody tr th {\n",
       "        vertical-align: top;\n",
       "    }\n",
       "\n",
       "    .dataframe thead th {\n",
       "        text-align: right;\n",
       "    }\n",
       "</style>\n",
       "<table border=\"1\" class=\"dataframe\">\n",
       "  <thead>\n",
       "    <tr style=\"text-align: right;\">\n",
       "      <th></th>\n",
       "      <th>do</th>\n",
       "      <th>be</th>\n",
       "      <th>to</th>\n",
       "      <th>i</th>\n",
       "      <th>am</th>\n",
       "      <th>da</th>\n",
       "      <th>is</th>\n",
       "      <th>let</th>\n",
       "      <th>it</th>\n",
       "      <th>or</th>\n",
       "      <th>not</th>\n",
       "      <th>what</th>\n",
       "      <th>think</th>\n",
       "      <th>therefore</th>\n",
       "    </tr>\n",
       "  </thead>\n",
       "  <tbody>\n",
       "    <tr>\n",
       "      <th>0</th>\n",
       "      <td>0.312717</td>\n",
       "      <td>0.255666</td>\n",
       "      <td>0.772535</td>\n",
       "      <td>0.000000</td>\n",
       "      <td>0.000000</td>\n",
       "      <td>0.000000</td>\n",
       "      <td>0.489931</td>\n",
       "      <td>0.000000</td>\n",
       "      <td>0.000000</td>\n",
       "      <td>0.000000</td>\n",
       "      <td>0.000000</td>\n",
       "      <td>0.000000</td>\n",
       "      <td>0.000000</td>\n",
       "      <td>0.000000</td>\n",
       "    </tr>\n",
       "    <tr>\n",
       "      <th>1</th>\n",
       "      <td>0.000000</td>\n",
       "      <td>0.307120</td>\n",
       "      <td>0.464005</td>\n",
       "      <td>0.464005</td>\n",
       "      <td>0.464005</td>\n",
       "      <td>0.000000</td>\n",
       "      <td>0.000000</td>\n",
       "      <td>0.000000</td>\n",
       "      <td>0.000000</td>\n",
       "      <td>0.294266</td>\n",
       "      <td>0.294266</td>\n",
       "      <td>0.294266</td>\n",
       "      <td>0.000000</td>\n",
       "      <td>0.000000</td>\n",
       "    </tr>\n",
       "    <tr>\n",
       "      <th>2</th>\n",
       "      <td>0.609695</td>\n",
       "      <td>0.332310</td>\n",
       "      <td>0.000000</td>\n",
       "      <td>0.502063</td>\n",
       "      <td>0.251031</td>\n",
       "      <td>0.000000</td>\n",
       "      <td>0.000000</td>\n",
       "      <td>0.000000</td>\n",
       "      <td>0.000000</td>\n",
       "      <td>0.000000</td>\n",
       "      <td>0.000000</td>\n",
       "      <td>0.000000</td>\n",
       "      <td>0.318401</td>\n",
       "      <td>0.318401</td>\n",
       "    </tr>\n",
       "    <tr>\n",
       "      <th>3</th>\n",
       "      <td>0.410533</td>\n",
       "      <td>0.223758</td>\n",
       "      <td>0.000000</td>\n",
       "      <td>0.000000</td>\n",
       "      <td>0.000000</td>\n",
       "      <td>0.643179</td>\n",
       "      <td>0.000000</td>\n",
       "      <td>0.428786</td>\n",
       "      <td>0.428786</td>\n",
       "      <td>0.000000</td>\n",
       "      <td>0.000000</td>\n",
       "      <td>0.000000</td>\n",
       "      <td>0.000000</td>\n",
       "      <td>0.000000</td>\n",
       "    </tr>\n",
       "  </tbody>\n",
       "</table>\n",
       "</div>"
      ]
     },
     "execution_count": 20,
     "metadata": {},
     "output_type": "execute_result"
    }
   ],
   "execution_count": 20
  },
  {
   "metadata": {
    "ExecuteTime": {
     "end_time": "2025-04-12T15:10:51.260454Z",
     "start_time": "2025-04-12T15:10:51.243443Z"
    }
   },
   "cell_type": "code",
   "source": [
    "user_rank = [user_vector.dot(vec) for vec in tfidf_l2]\n",
    "user_rank"
   ],
   "id": "14421a2d06b5cac3",
   "outputs": [
    {
     "data": {
      "text/plain": [
       "[array([0.7972005]),\n",
       " array([0.3606342]),\n",
       " array([0.38363656]),\n",
       " array([0.25831867])]"
      ]
     },
     "execution_count": 21,
     "metadata": {},
     "output_type": "execute_result"
    }
   ],
   "execution_count": 21
  },
  {
   "metadata": {
    "ExecuteTime": {
     "end_time": "2025-04-12T15:10:54.485714Z",
     "start_time": "2025-04-12T15:10:54.464141Z"
    }
   },
   "cell_type": "code",
   "source": [
    "cos_sim = np.array([np.dot(tfidf_l2, vector) for vector in tfidf_l2])\n",
    "cos_sim"
   ],
   "id": "bb248815b743ffe4",
   "outputs": [
    {
     "data": {
      "text/plain": [
       "array([[1.        , 0.43698001, 0.27562227, 0.1855881 ],\n",
       "       [0.43698001, 1.        , 0.45149814, 0.06872066],\n",
       "       [0.27562227, 0.45149814, 1.        , 0.32465691],\n",
       "       [0.1855881 , 0.06872066, 0.32465691, 1.        ]])"
      ]
     },
     "execution_count": 22,
     "metadata": {},
     "output_type": "execute_result"
    }
   ],
   "execution_count": 22
  },
  {
   "metadata": {
    "ExecuteTime": {
     "end_time": "2025-04-12T15:21:07.385172Z",
     "start_time": "2025-04-12T15:21:07.372151Z"
    }
   },
   "cell_type": "code",
   "source": [
    "import re\n",
    "import numpy as np\n",
    "from nltk import FreqDist\n",
    "from collections import Counter\n",
    "import math\n",
    "\n",
    "# 문장 리스트 정의\n",
    "sentence = [\n",
    "    'Python is a high-level, general-purpose programming language.',\n",
    "    'Its design philosophy emphasizes code readability with the use of significant indentation.',\n",
    "    'Its language constructs and object-oriented approach aim to help programmers write clear, logical code for small- and large-scale projects.',\n",
    "    'Python is dynamically-typed and garbage-collected.',\n",
    "    'It supports multiple programming paradigms, including structured (particularly procedural), object-oriented and functional programming.',\n",
    "    'It is often described as a \"batteries included\" language due to its comprehensive standard library.',\n",
    "    'Guido van Rossum began working on Python in the late 1980s as a successor to the ABC programming language and first released it in 1991 as Python 0.9.0.',\n",
    "    'Python 2.0 was released in 2000 and introduced new features such as list comprehensions, cycle-detecting garbage collection, reference counting, and Unicode support.',\n",
    "    'Python 3.0, released in 2008, was a major revision that is not completely backward-compatible with earlier versions.',\n",
    "    'Python 2 was discontinued with version 2.7.18 in 2020.',\n",
    "    'Python consistently ranks as one of the most popular programming languages',\n",
    "]\n",
    "\n",
    "def buildDict(docs):\n",
    "    doc_tokens = []\n",
    "    for doc in docs:\n",
    "        delim = re.compile(r'[\\s,.]+')\n",
    "        tokens = delim.split(doc.lower())\n",
    "        if tokens[-1] == '':\n",
    "            tokens = tokens[:-1]\n",
    "        doc_tokens.append(tokens)\n",
    "\n",
    "    vocab = FreqDist(np.hstack(doc_tokens))\n",
    "    vocab = vocab.most_common()\n",
    "    word_to_id = {word[0]: id for id, word in enumerate(vocab)}\n",
    "    id_to_word = {id: word[0] for id, word in enumerate(vocab)}\n",
    "    return doc_tokens, vocab, word_to_id, id_to_word\n",
    "\n",
    "def TFIDF(doc_tokens, id_to_word):\n",
    "    tf_vectors = []\n",
    "    idf = {}\n",
    "\n",
    "    # TF 계산\n",
    "    for doc in doc_tokens:\n",
    "        vec = [0.0 for _ in range(len(id_to_word))]\n",
    "        word_count = Counter(doc)\n",
    "        for key, value in word_count.items():\n",
    "            vec[word_to_id[key]] = value  # 단순 빈도 사용\n",
    "        tf_vectors.append(vec)\n",
    "\n",
    "    # IDF 계산\n",
    "    for id, _ in id_to_word.items():\n",
    "        idf[id] = 0.0\n",
    "        for doc in tf_vectors:\n",
    "            if doc[id] > 0:\n",
    "                idf[id] += 1\n",
    "    N = len(tf_vectors)\n",
    "    idf = {id: np.log((N + 1) / (val + 1)) + 1 for id, val in idf.items()}\n",
    "\n",
    "    # TF-IDF 계산\n",
    "    idf_list = [val for _, val in idf.items()]\n",
    "    tfidf = np.array([np.multiply(tf, idf_list) for tf in tf_vectors])\n",
    "\n",
    "    return tf_vectors, idf, tfidf\n",
    "\n",
    "def cosine_similarity(tfidf):\n",
    "    # 코사인 유사도 계산\n",
    "    cos_sim = np.zeros((len(tfidf), len(tfidf)))\n",
    "    for i in range(len(tfidf)):\n",
    "        for j in range(len(tfidf)):\n",
    "            if i == j:\n",
    "                cos_sim[i][j] = 1.0\n",
    "            else:\n",
    "                vec1 = tfidf[i]\n",
    "                vec2 = tfidf[j]\n",
    "                dot_product = np.dot(vec1, vec2)\n",
    "                norm1 = np.linalg.norm(vec1)\n",
    "                norm2 = np.linalg.norm(vec2)\n",
    "                if norm1 == 0 or norm2 == 0:\n",
    "                    cos_sim[i][j] = 0.0\n",
    "                else:\n",
    "                    cos_sim[i][j] = dot_product / (norm1 * norm2)\n",
    "    return cos_sim\n",
    "\n",
    "# 데이터 처리\n",
    "doc_tokens, vocab, word_to_id, id_to_word = buildDict(sentence)\n",
    "tf_vectors, idf, tfidf = TFIDF(doc_tokens, id_to_word)\n",
    "cos_sim = cosine_similarity(tfidf)\n",
    "\n",
    "# 결과 출력\n",
    "np.set_printoptions(precision=4, suppress=True)\n",
    "print(\"Cosine Similarity Matrix:\")\n",
    "print(cos_sim)"
   ],
   "id": "29bf1dbac0a70149",
   "outputs": [
    {
     "name": "stdout",
     "output_type": "stream",
     "text": [
      "Cosine Similarity Matrix:\n",
      "[[1.     0.     0.0551 0.1996 0.1323 0.1982 0.1827 0.0288 0.1541 0.0403\n",
      "  0.1203]\n",
      " [0.     1.     0.1    0.     0.     0.0523 0.0701 0.     0.0476 0.0568\n",
      "  0.1398]\n",
      " [0.0551 0.1    1.     0.1033 0.1065 0.1148 0.0853 0.0829 0.     0.\n",
      "  0.    ]\n",
      " [0.1996 0.     0.1033 1.     0.062  0.0759 0.0987 0.1293 0.108  0.0463\n",
      "  0.0497]\n",
      " [0.1323 0.     0.1065 0.062  1.     0.0492 0.1072 0.0498 0.     0.\n",
      "  0.0917]\n",
      " [0.1982 0.0523 0.1148 0.0759 0.0492 1.     0.1712 0.0305 0.0715 0.\n",
      "  0.0458]\n",
      " [0.1827 0.0701 0.0853 0.0987 0.1072 0.1712 1.     0.2149 0.1889 0.0892\n",
      "  0.2035]\n",
      " [0.0288 0.     0.0829 0.1293 0.0498 0.0305 0.2149 1.     0.1476 0.2003\n",
      "  0.0555]\n",
      " [0.1541 0.0476 0.     0.108  0.     0.0715 0.1889 0.1476 1.     0.1577\n",
      "  0.0234]\n",
      " [0.0403 0.0568 0.     0.0463 0.     0.     0.0892 0.2003 0.1577 1.\n",
      "  0.0279]\n",
      " [0.1203 0.1398 0.     0.0497 0.0917 0.0458 0.2035 0.0555 0.0234 0.0279\n",
      "  1.    ]]\n"
     ]
    }
   ],
   "execution_count": 23
  },
  {
   "metadata": {},
   "cell_type": "code",
   "outputs": [],
   "execution_count": null,
   "source": "",
   "id": "edc415be8203fa6e"
  }
 ],
 "metadata": {
  "kernelspec": {
   "display_name": "Python 3",
   "language": "python",
   "name": "python3"
  },
  "language_info": {
   "codemirror_mode": {
    "name": "ipython",
    "version": 2
   },
   "file_extension": ".py",
   "mimetype": "text/x-python",
   "name": "python",
   "nbconvert_exporter": "python",
   "pygments_lexer": "ipython2",
   "version": "2.7.6"
  }
 },
 "nbformat": 4,
 "nbformat_minor": 5
}
