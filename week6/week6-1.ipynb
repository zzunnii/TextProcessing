{
 "cells": [
  {
   "cell_type": "code",
   "id": "initial_id",
   "metadata": {
    "collapsed": true,
    "ExecuteTime": {
     "end_time": "2025-04-13T09:59:04.744126Z",
     "start_time": "2025-04-13T09:59:04.740125Z"
    }
   },
   "source": [
    "sentence ={\n",
    "    'Python is a high-level, general-purpose programming language.',\n",
    "    'Its design philosophy emphasizes code readability with the use of significant indentation.',\n",
    "    'Its language constructs and object-oriented approach aim to help programmers write clear, logical code for small- and large-scale projects.',\n",
    "    'Python is dynamically-typed and garbage-collected.',\n",
    "    'It supports multiple programming paradigms, including structured (particularly procedural), object-oriented and functional programming.',\n",
    "    'It is often described as a \"batteries included\" language due to its comprehensive standard library.',\n",
    "    'Guido van Rossum began working on Python in the late 1980s as a successor to the ABC programming language and first released it in 1991 as Python 0.9.0.',\n",
    "    'Python 2.0 was released in 2000 and introduced new features such as list comprehensions, cycle-detecting garbage collection, reference counting, and Unicode support.',\n",
    "    'Python 3.0, released in 2008, was a major revision that is not completely backward-compatible with earlier versions.',\n",
    "    'Python 2 was discontinued with version 2.7.18 in 2020.',\n",
    "    'Python consistently ranks as one of the most popular programming languages',\n",
    "}"
   ],
   "outputs": [],
   "execution_count": 13
  },
  {
   "metadata": {
    "ExecuteTime": {
     "end_time": "2025-04-13T09:59:04.999661Z",
     "start_time": "2025-04-13T09:59:04.984660Z"
    }
   },
   "cell_type": "code",
   "source": [
    "from nltk import FreqDist\n",
    "import numpy as np\n",
    "import re\n",
    "\n",
    "def buildDict(docs):\n",
    "    doc_tokens = []     # python list\n",
    "    for doc in docs:\n",
    "        delim = re.compile(r'[\\s,.]+')\n",
    "        tokens = delim.split(doc.lower()) \n",
    "        if tokens[-1] == '' :   tokens = tokens[:-1] \n",
    "        doc_tokens.append(tokens)\n",
    "\n",
    "    vocab = FreqDist(np.hstack(doc_tokens))\n",
    "    vocab = vocab.most_common()\n",
    "    word_to_id = {word[0] : id for id, word in enumerate(vocab)}\n",
    "    id_to_word = {id : word[0] for id, word in enumerate(vocab)}\n",
    "    return doc_tokens, vocab, word_to_id, id_to_word"
   ],
   "id": "99da63e32fb66e3c",
   "outputs": [],
   "execution_count": 14
  },
  {
   "metadata": {
    "ExecuteTime": {
     "end_time": "2025-04-13T09:59:05.285001Z",
     "start_time": "2025-04-13T09:59:05.274001Z"
    }
   },
   "cell_type": "code",
   "source": [
    "from collections import Counter\n",
    "import math\n",
    "import numpy as np\n",
    "\n",
    "def TFIDF(doc_tokens, id_to_word):\n",
    "    tf_vectors = []\n",
    "    idf = {}\n",
    "\n",
    "    #TF 구하기\n",
    "    for doc in doc_tokens:\n",
    "        vec = [0.0 for _ in range((len(id_to_word)))]\n",
    "        word_count = Counter(doc)\n",
    "        for key, value in word_count.items():\n",
    "            vec[word_to_id[key]] = value\n",
    "            #vec[word_to_id[key]] = 1+ math.log2(value) #tf계산\n",
    "        tf_vectors.append(vec)\n",
    "    \n",
    "    #IDF 구하기\n",
    "    for id, _ in id_to_word.items():\n",
    "        idf[id] = 0.0\n",
    "        for doc in tf_vectors:\n",
    "            if doc[id] > 0:\n",
    "                idf[id] += 1\n",
    "    N = len(tf_vectors)            \n",
    "    idf = {id : np.log((N+1)/(val+1))+1 for id, val in idf.items()}\n",
    "\n",
    "    #TF-IDF 구하기\n",
    "    idf_list = [val for _, val in idf.items()]\n",
    "    tfidf = np.array([np.multiply(tf, idf_list) for tf in tf_vectors])\n",
    "\n",
    "    return tf_vectors, idf, tfidf"
   ],
   "id": "de47b3f28596fd0d",
   "outputs": [],
   "execution_count": 15
  },
  {
   "metadata": {
    "ExecuteTime": {
     "end_time": "2025-04-13T09:59:47.052996Z",
     "start_time": "2025-04-13T09:59:47.046996Z"
    }
   },
   "cell_type": "code",
   "source": [
    "def cosine_similarity(tfidf):\n",
    "    # 코사인 유사도 계산\n",
    "    cos_sim = np.zeros((len(tfidf), len(tfidf)))\n",
    "    for i in range(len(tfidf)):\n",
    "        for j in range(len(tfidf)):\n",
    "            if i == j:\n",
    "                cos_sim[i][j] = 1.0\n",
    "            else:\n",
    "                vec1 = tfidf[i]\n",
    "                vec2 = tfidf[j]\n",
    "                dot_product = np.dot(vec1, vec2)\n",
    "                norm1 = np.linalg.norm(vec1)\n",
    "                norm2 = np.linalg.norm(vec2)\n",
    "                if norm1 == 0 or norm2 == 0:\n",
    "                    cos_sim[i][j] = 0.0\n",
    "                else:\n",
    "                    cos_sim[i][j] = dot_product / (norm1 * norm2)\n",
    "    return cos_sim"
   ],
   "id": "f82c176ec53a7090",
   "outputs": [],
   "execution_count": 17
  },
  {
   "metadata": {
    "ExecuteTime": {
     "end_time": "2025-04-13T09:59:53.886070Z",
     "start_time": "2025-04-13T09:59:53.868958Z"
    }
   },
   "cell_type": "code",
   "source": [
    "doc_tokens, vocab, word_to_id, id_to_word = buildDict(sentence)\n",
    "tf_vectors, idf, tfidf = TFIDF(doc_tokens, id_to_word)\n",
    "cos_sim = cosine_similarity(tfidf)\n"
   ],
   "id": "f7956cbcadbdc24e",
   "outputs": [],
   "execution_count": 18
  },
  {
   "metadata": {
    "ExecuteTime": {
     "end_time": "2025-04-13T09:59:57.662460Z",
     "start_time": "2025-04-13T09:59:57.651461Z"
    }
   },
   "cell_type": "code",
   "source": [
    "np.set_printoptions(precision=4, suppress=True)\n",
    "print(\"Cosine Similarity Matrix:\")\n",
    "print(cos_sim)"
   ],
   "id": "d6cb4113df76fcf5",
   "outputs": [
    {
     "name": "stdout",
     "output_type": "stream",
     "text": [
      "Cosine Similarity Matrix:\n",
      "[[1.     0.1323 0.1072 0.062  0.     0.1065 0.0917 0.     0.     0.0492\n",
      "  0.0498]\n",
      " [0.1323 1.     0.1827 0.1996 0.1541 0.0551 0.1203 0.0403 0.     0.1982\n",
      "  0.0288]\n",
      " [0.1072 0.1827 1.     0.0987 0.1889 0.0853 0.2035 0.0892 0.0701 0.1712\n",
      "  0.2149]\n",
      " [0.062  0.1996 0.0987 1.     0.108  0.1033 0.0497 0.0463 0.     0.0759\n",
      "  0.1293]\n",
      " [0.     0.1541 0.1889 0.108  1.     0.     0.0234 0.1577 0.0476 0.0715\n",
      "  0.1476]\n",
      " [0.1065 0.0551 0.0853 0.1033 0.     1.     0.     0.     0.1    0.1148\n",
      "  0.0829]\n",
      " [0.0917 0.1203 0.2035 0.0497 0.0234 0.     1.     0.0279 0.1398 0.0458\n",
      "  0.0555]\n",
      " [0.     0.0403 0.0892 0.0463 0.1577 0.     0.0279 1.     0.0568 0.\n",
      "  0.2003]\n",
      " [0.     0.     0.0701 0.     0.0476 0.1    0.1398 0.0568 1.     0.0523\n",
      "  0.    ]\n",
      " [0.0492 0.1982 0.1712 0.0759 0.0715 0.1148 0.0458 0.     0.0523 1.\n",
      "  0.0305]\n",
      " [0.0498 0.0288 0.2149 0.1293 0.1476 0.0829 0.0555 0.2003 0.     0.0305\n",
      "  1.    ]]\n"
     ]
    }
   ],
   "execution_count": 19
  },
  {
   "metadata": {},
   "cell_type": "code",
   "outputs": [],
   "execution_count": null,
   "source": "",
   "id": "820b99267376d7c2"
  }
 ],
 "metadata": {
  "kernelspec": {
   "display_name": "Python 3",
   "language": "python",
   "name": "python3"
  },
  "language_info": {
   "codemirror_mode": {
    "name": "ipython",
    "version": 2
   },
   "file_extension": ".py",
   "mimetype": "text/x-python",
   "name": "python",
   "nbconvert_exporter": "python",
   "pygments_lexer": "ipython2",
   "version": "2.7.6"
  }
 },
 "nbformat": 4,
 "nbformat_minor": 5
}
