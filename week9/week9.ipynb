{
 "cells": [
  {
   "metadata": {},
   "cell_type": "raw",
   "source": [
    "- #: 해시 기호로 시작\n",
    "\n",
    "- [0-9a-fA-F]: 16진수 숫자 (09, af, A~F) 중 하나\n",
    "\n",
    "- {6}: 정확히 6자리\n",
    "- 괄호 ()는 캡처 그룹"
   ],
   "id": "ddeb83d804e4e693"
  },
  {
   "cell_type": "code",
   "execution_count": null,
   "id": "initial_id",
   "metadata": {
    "collapsed": true
   },
   "outputs": [],
   "source": "r'#([0-9a-fA-F]{6})'\n"
  }
 ],
 "metadata": {
  "kernelspec": {
   "display_name": "Python 3",
   "language": "python",
   "name": "python3"
  },
  "language_info": {
   "codemirror_mode": {
    "name": "ipython",
    "version": 2
   },
   "file_extension": ".py",
   "mimetype": "text/x-python",
   "name": "python",
   "nbconvert_exporter": "python",
   "pygments_lexer": "ipython2",
   "version": "2.7.6"
  }
 },
 "nbformat": 4,
 "nbformat_minor": 5
}
