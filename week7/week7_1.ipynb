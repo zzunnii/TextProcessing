{
 "cells": [
  {
   "cell_type": "code",
   "id": "initial_id",
   "metadata": {
    "collapsed": true,
    "ExecuteTime": {
     "end_time": "2025-04-20T08:26:29.587627Z",
     "start_time": "2025-04-20T08:26:29.579627Z"
    }
   },
   "source": [
    "with open('sample.txt', 'r', encoding = 'utf-8') as f:\n",
    "    docs = f.readlines()\n",
    "\n",
    "for id, doc in enumerate(docs):\n",
    "    print('[{}] : {}...'.format(id, doc[:30]))"
   ],
   "outputs": [
    {
     "name": "stdout",
     "output_type": "stream",
     "text": [
      "[0] : BTS, also known as the Bangtan...\n",
      "[1] : [5] The septet—consisting of m...\n",
      "[2] : Originally a hip hop group, th...\n",
      "[3] : Their lyrics, often focused on...\n",
      "[4] : Their work also often referenc...\n",
      "[5] : After debuting in 2013 with th...\n",
      "[6] : The group's second Korean stud...\n",
      "[7] : By 2017, BTS crossed into the ...\n",
      "[8] : They became the first Korean g...\n",
      "[9] : BTS became one of the few grou...\n",
      "[10] : In 2020, BTS became the first ...\n",
      "[11] : Their follow-up releases \"Sava...\n",
      "[12] : Having sold over 20 million al...\n",
      "[13] : They are the first Asian and n...\n",
      "[14] : Featured on Time's internation...\n",
      "[15] : The group's numerous accolades...\n",
      "[16] : Outside of music, they partner...\n"
     ]
    }
   ],
   "execution_count": 2
  },
  {
   "metadata": {
    "ExecuteTime": {
     "end_time": "2025-04-20T08:26:44.285900Z",
     "start_time": "2025-04-20T08:26:42.988080Z"
    }
   },
   "cell_type": "code",
   "source": [
    "from sklearn.feature_extraction.text import TfidfVectorizer\n",
    "\n",
    "#tfidf 벡터 메트릭스 생성\n",
    "tfidf = TfidfVectorizer()\n",
    "tfidf_matrix = tfidf.fit_transform(docs)\n",
    "print('type of tfidf_matrix {}'.format(type(tfidf_matrix)))\n",
    "print('shape of tfidf_matrix {}'.format(tfidf_matrix.shape))"
   ],
   "id": "80ad2d7664f6eb35",
   "outputs": [
    {
     "name": "stdout",
     "output_type": "stream",
     "text": [
      "type of tfidf_matrix <class 'scipy.sparse._csr.csr_matrix'>\n",
      "shape of tfidf_matrix (17, 279)\n"
     ]
    }
   ],
   "execution_count": 3
  },
  {
   "metadata": {
    "ExecuteTime": {
     "end_time": "2025-04-20T08:29:07.326349Z",
     "start_time": "2025-04-20T08:29:07.320351Z"
    }
   },
   "cell_type": "code",
   "source": [
    "vocab = sorted(tfidf.vocabulary_.items())\n",
    "vocab[10:20]"
   ],
   "id": "2ad8fd464e9b6fa6",
   "outputs": [
    {
     "data": {
      "text/plain": [
       "[('2019', 10),\n",
       " ('2020', 11),\n",
       " ('24', 12),\n",
       " ('25', 13),\n",
       " ('45', 14),\n",
       " ('accolades', 15),\n",
       " ('accumulate', 16),\n",
       " ('act', 17),\n",
       " ('addressed', 18),\n",
       " ('after', 19)]"
      ]
     },
     "execution_count": 4,
     "metadata": {},
     "output_type": "execute_result"
    }
   ],
   "execution_count": 4
  },
  {
   "metadata": {
    "ExecuteTime": {
     "end_time": "2025-04-20T08:30:13.449583Z",
     "start_time": "2025-04-20T08:30:13.423713Z"
    }
   },
   "cell_type": "code",
   "source": [
    "import pandas as pd\n",
    "\n",
    "df = pd.DataFrame(tfidf_matrix.toarray(), columns=tfidf.get_feature_names_out())\n",
    "print(df.head(5))"
   ],
   "id": "f7dd199d77b5bbd4",
   "outputs": [
    {
     "name": "stdout",
     "output_type": "stream",
     "text": [
      "   100   20  200      2010  2010s      2013  2014  2016  2017  2018  ...  \\\n",
      "0  0.0  0.0  0.0  0.231975    0.0  0.202557   0.0   0.0   0.0   0.0  ...   \n",
      "1  0.0  0.0  0.0  0.000000    0.0  0.000000   0.0   0.0   0.0   0.0  ...   \n",
      "2  0.0  0.0  0.0  0.000000    0.0  0.000000   0.0   0.0   0.0   0.0  ...   \n",
      "3  0.0  0.0  0.0  0.000000    0.0  0.000000   0.0   0.0   0.0   0.0  ...   \n",
      "4  0.0  0.0  0.0  0.000000    0.0  0.000000   0.0   0.0   0.0   0.0  ...   \n",
      "\n",
      "   wings  with      work  world    writes  year  years  youngest  yourself  \\\n",
      "0    0.0   0.0  0.000000    0.0  0.000000   0.0    0.0       0.0       0.0   \n",
      "1    0.0   0.0  0.000000    0.0  0.224235   0.0    0.0       0.0       0.0   \n",
      "2    0.0   0.0  0.000000    0.0  0.000000   0.0    0.0       0.0       0.0   \n",
      "3    0.0   0.0  0.000000    0.0  0.000000   0.0    0.0       0.0       0.0   \n",
      "4    0.0   0.0  0.286997    0.0  0.000000   0.0    0.0       0.0       0.0   \n",
      "\n",
      "      youth  \n",
      "0  0.000000  \n",
      "1  0.000000  \n",
      "2  0.000000  \n",
      "3  0.184249  \n",
      "4  0.000000  \n",
      "\n",
      "[5 rows x 279 columns]\n"
     ]
    }
   ],
   "execution_count": 6
  },
  {
   "metadata": {},
   "cell_type": "markdown",
   "source": "# 1. 문서 별 키워드 추출",
   "id": "13d678feed943a3d"
  },
  {
   "metadata": {
    "ExecuteTime": {
     "end_time": "2025-04-20T08:34:33.775413Z",
     "start_time": "2025-04-20T08:34:33.765968Z"
    }
   },
   "cell_type": "code",
   "source": [
    "tfidf_table = tfidf_matrix.toarray()\n",
    "\n",
    "keywords = []\n",
    "for weight in tfidf_table:\n",
    "    w_vec = list(enumerate(weight))\n",
    "    w_vec = sorted(w_vec, key=lambda x : x[1], reverse=True)\n",
    "    print(w_vec[:3])\n",
    "    keywords.append(w_vec)"
   ],
   "id": "3398e6b41fa1d1f8",
   "outputs": [
    {
     "name": "stdout",
     "output_type": "stream",
     "text": [
      "[(3, 0.23197531097458143), (43, 0.23197531097458143), (44, 0.23197531097458143)]\n",
      "[(63, 0.4484693405096295), (67, 0.22423467025481475), (121, 0.22423467025481475)]\n",
      "[(89, 0.2913728403081426), (105, 0.2913728403081426), (116, 0.2913728403081426)]\n",
      "[(20, 0.36849717258087467), (178, 0.27450131318216087), (180, 0.22410956369129728)]\n",
      "[(25, 0.28699683521736424), (28, 0.28699683521736424), (66, 0.28699683521736424)]\n",
      "[(21, 0.3950821629525769), (143, 0.3503821312466642), (235, 0.31427634964973317)]\n",
      "[(7, 0.30509746046439434), (70, 0.30509746046439434), (217, 0.30509746046439434)]\n",
      "[(132, 0.47053339357158536), (241, 0.2610022040778573), (54, 0.23526669678579268)]\n",
      "[(36, 0.28724185972682575), (241, 0.2712474009036821), (94, 0.22304852454237598)]\n",
      "[(241, 0.294536606699032), (181, 0.28410989848189394), (30, 0.1991208889942173)]\n",
      "[(50, 0.3419126164640681), (23, 0.2396324257354338), (83, 0.2396324257354338)]\n",
      "[(247, 0.2297315157704796), (16, 0.21690472536686714), (57, 0.21690472536686714)]\n",
      "[(48, 0.3715543528675553), (219, 0.3715543528675553), (241, 0.2747987889433404)]\n",
      "[(232, 0.2870993504376945), (247, 0.22805785642019472), (178, 0.2138663592909825)]\n",
      "[(129, 0.30536311198533883), (164, 0.30536311198533883), (191, 0.30536311198533883)]\n",
      "[(42, 0.6905825634465242), (166, 0.2463344541413935), (12, 0.17264564086163106)]\n",
      "[(178, 0.32081996050313416), (241, 0.23889377807315426), (247, 0.17105428065385614)]\n"
     ]
    }
   ],
   "execution_count": 7
  },
  {
   "metadata": {
    "ExecuteTime": {
     "end_time": "2025-04-20T09:11:00.107550Z",
     "start_time": "2025-04-20T09:11:00.098550Z"
    }
   },
   "cell_type": "code",
   "source": [
    "print(f'3번 : {vocab[3]}\\n43번 : {vocab[43]}\\n44번 : {vocab[44]}\\n\\n')\n",
    "\n",
    "\n",
    "print(f'21번 : {vocab[21]}\\n143번 : {vocab[143]}\\n\\n')\n",
    "print(f'89번 : {vocab[89]}\\n105번 : {vocab[105]}\\n\\n')\n"
   ],
   "id": "8d8399e5bc23e835",
   "outputs": [
    {
     "name": "stdout",
     "output_type": "stream",
     "text": [
      "3번 : ('2010', 3)\n",
      "43번 : ('band', 43)\n",
      "44번 : ('bangtan', 44)\n",
      "\n",
      "\n",
      "21번 : ('album', 21)\n",
      "143번 : ('language', 143)\n",
      "\n",
      "\n",
      "89번 : ('evolved', 89)\n",
      "105번 : ('genres', 105)\n",
      "\n",
      "\n"
     ]
    }
   ],
   "execution_count": 26
  },
  {
   "metadata": {},
   "cell_type": "markdown",
   "source": "# 2. 랭킹",
   "id": "976f6ce8c412e626"
  },
  {
   "metadata": {},
   "cell_type": "markdown",
   "source": "## 2 - 1 문장 랭킹",
   "id": "42e61e3885444090"
  },
  {
   "metadata": {
    "ExecuteTime": {
     "end_time": "2025-04-20T08:35:41.940542Z",
     "start_time": "2025-04-20T08:35:41.923465Z"
    }
   },
   "cell_type": "code",
   "source": [
    "import numpy as np\n",
    "def tfidf_rank(tfidf_matrix):\n",
    "    rank = []\n",
    "    avg, stddev = 0.0, 0.0\n",
    "    #문서 별 tfidf 가중치의 합 계산 : (문서id, 가중치 합)\n",
    "    for idx, tfidf in enumerate(tfidf_matrix):\n",
    "        rank.append((idx, tfidf.sum()))\n",
    "\n",
    "    #가중치의 합이 높은 문서 순으로 정렬    \n",
    "    rank.sort(key=lambda x : x[1], reverse=True)\n",
    "\n",
    "    #tfidf의 평균과 표준편차 계산\n",
    "    tfidf_sum = [tfidf.sum() for tfidf in tfidf_matrix]\n",
    "    avg = np.mean(tfidf_sum)\n",
    "    stddev = np.std(tfidf_sum)\n",
    "    return rank, avg, stddev\n",
    "\n",
    "rank, avg, stddev = tfidf_rank(tfidf_matrix)\n",
    "\n",
    "print(rank[:2])\n",
    "print('avg = {}, stddev = {}'.format(avg, stddev))\n",
    "\n",
    "#랭크가 높은 문서 2개의 원문을 추출하여 rank_doc에 저장 후 출력\n",
    "rank_doc = [docs[doc_id[0]] for doc_id in rank[:2]]\n",
    "print(rank_doc)"
   ],
   "id": "f9088b64c02be820",
   "outputs": [
    {
     "name": "stdout",
     "output_type": "stream",
     "text": [
      "[(13, 6.693423095412073), (16, 6.186613095039842)]\n",
      "avg = 4.853519357129592, stddev = 0.8320478309229977\n",
      "[\"They are the first Asian and non-English speaking act to be named International Federation of the Phonographic Industry (IFPI) Global Recording Artist of the Year (2020), to chart on Billboard's Top Touring Artists of the 2010s (placing at number 45), and to headline and sell out Wembley Stadium and Rose Bowl Stadium (Love Yourself World Tour in 2019).\\n\", 'Outside of music, they partnered with UNICEF to establish the Love Myself anti-violence campaign, addressed three United Nations General Assemblies, and became the youngest ever recipients of the Order of Cultural Merit from the President of South Korea due to their contributions in spreading Korean culture and language.']\n"
     ]
    }
   ],
   "execution_count": 9
  },
  {
   "metadata": {},
   "cell_type": "markdown",
   "source": "## 2 - 2 단어 랭킹",
   "id": "f3ad6ba4494e94bb"
  },
  {
   "metadata": {
    "ExecuteTime": {
     "end_time": "2025-04-20T08:40:15.967539Z",
     "start_time": "2025-04-20T08:40:15.961034Z"
    }
   },
   "cell_type": "code",
   "source": [
    "df = pd.DataFrame(tfidf_matrix.toarray(), columns=tfidf.get_feature_names_out())\n",
    "result = df.sum()\n",
    "result = result.sort_values(ascending=False)\n",
    "print(result[:10])"
   ],
   "id": "4108838bab6ecf39",
   "outputs": [
    {
     "name": "stdout",
     "output_type": "stream",
     "text": [
      "the       2.574203\n",
      "and       1.713037\n",
      "of        1.610464\n",
      "to        1.371285\n",
      "their     1.250107\n",
      "in        1.210924\n",
      "korean    1.055683\n",
      "on        0.980620\n",
      "album     0.968351\n",
      "first     0.884761\n",
      "dtype: float64\n"
     ]
    }
   ],
   "execution_count": 13
  },
  {
   "metadata": {
    "ExecuteTime": {
     "end_time": "2025-04-20T08:48:52.809908Z",
     "start_time": "2025-04-20T08:48:52.801395Z"
    }
   },
   "cell_type": "code",
   "source": [
    "tfidf2 = TfidfVectorizer(stop_words='english')\n",
    "tfidf_matrix2 = tfidf2.fit_transform(docs)\n",
    "print('shape of tfidf_matrix2 = {}'.format(tfidf_matrix2.shape))\n",
    "\n",
    "df = pd.DataFrame(tfidf_matrix2.toarray(), columns=tfidf2.get_feature_names_out())\n",
    "result = df.sum()\n",
    "result = result.sort_values(ascending=False)\n",
    "print(result[:10])"
   ],
   "id": "51cfc541b3039892",
   "outputs": [
    {
     "name": "stdout",
     "output_type": "stream",
     "text": [
      "shape of tfidf_matrix2 = (17, 222)\n",
      "korean       1.313829\n",
      "album        1.164872\n",
      "bts          1.078723\n",
      "south        1.007459\n",
      "billboard    0.845713\n",
      "studio       0.818018\n",
      "love         0.784407\n",
      "group        0.782621\n",
      "music        0.765502\n",
      "awards       0.738452\n",
      "dtype: float64\n"
     ]
    }
   ],
   "execution_count": 18
  },
  {
   "metadata": {
    "ExecuteTime": {
     "end_time": "2025-04-20T08:48:57.647072Z",
     "start_time": "2025-04-20T08:48:57.541046Z"
    }
   },
   "cell_type": "code",
   "source": [
    "import matplotlib.pyplot as plt\n",
    "from wordcloud import WordCloud\n",
    "\n",
    "Cloud = WordCloud(background_color=\"white\", max_words=100).generate_from_frequencies(result)\n",
    "\n",
    "plt.imshow(Cloud, interpolation='bilinear')\n",
    "plt.axis('off')\n",
    "plt.show()"
   ],
   "id": "e748d87942d124c4",
   "outputs": [
    {
     "data": {
      "text/plain": [
       "<Figure size 640x480 with 1 Axes>"
      ],
      "image/png": "[encoded data removed]"
     },
     "metadata": {},
     "output_type": "display_data"
    }
   ],
   "execution_count": 19
  },
  {
   "metadata": {},
   "cell_type": "markdown",
   "source": "# 3. 문서 유사도 계산",
   "id": "c4297cdc57ef4ef6"
  },
  {
   "metadata": {
    "ExecuteTime": {
     "end_time": "2025-04-20T08:51:17.970077Z",
     "start_time": "2025-04-20T08:51:17.902603Z"
    }
   },
   "cell_type": "code",
   "source": [
    "from sklearn.metrics.pairwise import cosine_similarity\n",
    "from sklearn.metrics.pairwise import linear_kernel\n",
    "\n",
    "def cosine_sim_rank(tfidf_matrix):\n",
    "    #1. 코사인 유사도 계산\n",
    "    cos_sim = cosine_similarity(tfidf_matrix, tfidf_matrix)\n",
    "    #cos_sim = linear_kernel(tfidf_matrix, tfidf_matrix)\n",
    "    print('shape of cos_sim table {}'.format(cos_sim.shape))\n",
    "    \n",
    "    #2. 유사도가 높은 문서 쌍 순으로 정렬\n",
    "    sim_scores = []\n",
    "    for idx, sim in enumerate(cos_sim):\n",
    "        sim = list(enumerate(sim))\n",
    "        sim = sorted(sim, key=lambda x: x[1], reverse=True)\n",
    "        sim_scores.append(((idx, sim[1][0]), sim[1][1]))\n",
    "    \n",
    "    sim_scores.sort(key=lambda x : x[1], reverse=True)\n",
    "    return sim_scores\n",
    "\n",
    "sim_scores = cosine_sim_rank(tfidf_matrix)\n",
    "print(sim_scores)"
   ],
   "id": "66dc8bdc193d7e16",
   "outputs": [
    {
     "name": "stdout",
     "output_type": "stream",
     "text": [
      "shape of cos_sim table (17, 17)\n",
      "[((8, 10), 0.33726863252138756), ((10, 8), 0.33726863252138756), ((9, 8), 0.3011090461223652), ((13, 8), 0.2714798133475461), ((5, 6), 0.24882604511929546), ((6, 5), 0.24882604511929546), ((16, 8), 0.23609277060128028), ((12, 6), 0.2241844040049017), ((14, 13), 0.2129222576840272), ((11, 9), 0.20533428710742477), ((3, 14), 0.16560870640209846), ((0, 12), 0.16468801043745132), ((7, 9), 0.14369019524697718), ((1, 16), 0.1189618772561185), ((15, 7), 0.10008635253045675), ((4, 3), 0.09522662738619718), ((2, 8), 0.09362561003266479)]\n"
     ]
    }
   ],
   "execution_count": 20
  },
  {
   "metadata": {
    "ExecuteTime": {
     "end_time": "2025-04-20T09:23:40.186390Z",
     "start_time": "2025-04-20T09:23:40.182391Z"
    }
   },
   "cell_type": "code",
   "source": [
    "print(f'8번 문서:\\n{docs[8]}')\n",
    "print(f'10번 문서:\\n{docs[10]}')"
   ],
   "id": "73ead9865bc6c308",
   "outputs": [
    {
     "name": "stdout",
     "output_type": "stream",
     "text": [
      "8번 문서:\n",
      "They became the first Korean group to receive a certification from the Recording Industry Association of America (RIAA) for their single \"Mic Drop\", as well as the first Korean act to top the US Billboard 200 with their studio album Love Yourself: Tear (2018).\n",
      "\n",
      "10번 문서:\n",
      "In 2020, BTS became the first all-South Korean act to reach number one on the Billboard Global 200 and US Billboard Hot 100 with their Grammy-nominated single \"Dynamite\".\n",
      "\n"
     ]
    }
   ],
   "execution_count": 31
  },
  {
   "metadata": {
    "ExecuteTime": {
     "end_time": "2025-04-20T09:26:07.983985Z",
     "start_time": "2025-04-20T09:26:07.964478Z"
    }
   },
   "cell_type": "code",
   "source": [
    "from sklearn.metrics.pairwise import cosine_similarity\n",
    "from sklearn.metrics.pairwise import linear_kernel\n",
    "\n",
    "cos_sim = cosine_similarity(tfidf_matrix, tfidf_matrix)\n",
    "pd.DataFrame(cos_sim)"
   ],
   "id": "d454f0d0643dc1a9",
   "outputs": [
    {
     "data": {
      "text/plain": [
       "          0         1         2         3         4         5         6   \\\n",
       "0   1.000000  0.021340  0.000000  0.029224  0.059047  0.112296  0.135950   \n",
       "1   0.021340  1.000000  0.046464  0.115337  0.049225  0.031911  0.024263   \n",
       "2   0.000000  0.046464  1.000000  0.051419  0.018222  0.025477  0.089546   \n",
       "3   0.029224  0.115337  0.051419  1.000000  0.095227  0.031276  0.027624   \n",
       "4   0.059047  0.049225  0.018222  0.095227  1.000000  0.040843  0.019080   \n",
       "5   0.112296  0.031911  0.025477  0.031276  0.040843  1.000000  0.248826   \n",
       "6   0.135950  0.024263  0.089546  0.027624  0.019080  0.248826  1.000000   \n",
       "7   0.058618  0.036071  0.000000  0.053350  0.018467  0.031334  0.047150   \n",
       "8   0.096438  0.060695  0.093626  0.076685  0.022936  0.208543  0.242247   \n",
       "9   0.107047  0.058659  0.030580  0.082332  0.015630  0.112640  0.227983   \n",
       "10  0.103473  0.041101  0.034796  0.084546  0.033796  0.144573  0.188244   \n",
       "11  0.027872  0.030552  0.049220  0.065597  0.030590  0.070302  0.094269   \n",
       "12  0.164688  0.054728  0.013350  0.102135  0.014582  0.125749  0.224184   \n",
       "13  0.052855  0.100453  0.066136  0.150609  0.045071  0.040613  0.121197   \n",
       "14  0.104759  0.075911  0.055863  0.165609  0.050848  0.032079  0.043339   \n",
       "15  0.016430  0.026470  0.063957  0.034800  0.027103  0.009474  0.034012   \n",
       "16  0.074601  0.118962  0.083071  0.151519  0.035454  0.110331  0.141087   \n",
       "\n",
       "          7         8         9         10        11        12        13  \\\n",
       "0   0.058618  0.096438  0.107047  0.103473  0.027872  0.164688  0.052855   \n",
       "1   0.036071  0.060695  0.058659  0.041101  0.030552  0.054728  0.100453   \n",
       "2   0.000000  0.093626  0.030580  0.034796  0.049220  0.013350  0.066136   \n",
       "3   0.053350  0.076685  0.082332  0.084546  0.065597  0.102135  0.150609   \n",
       "4   0.018467  0.022936  0.015630  0.033796  0.030590  0.014582  0.045071   \n",
       "5   0.031334  0.208543  0.112640  0.144573  0.070302  0.125749  0.040613   \n",
       "6   0.047150  0.242247  0.227983  0.188244  0.094269  0.224184  0.121197   \n",
       "7   1.000000  0.092076  0.143690  0.118264  0.042225  0.122982  0.094610   \n",
       "8   0.092076  1.000000  0.301109  0.337269  0.141334  0.129099  0.271480   \n",
       "9   0.143690  0.301109  1.000000  0.248100  0.205334  0.177006  0.185391   \n",
       "10  0.118264  0.337269  0.248100  1.000000  0.201421  0.174220  0.236679   \n",
       "11  0.042225  0.141334  0.205334  0.201421  1.000000  0.053757  0.143081   \n",
       "12  0.122982  0.129099  0.177006  0.174220  0.053757  1.000000  0.156353   \n",
       "13  0.094610  0.271480  0.185391  0.236679  0.143081  0.156353  1.000000   \n",
       "14  0.120968  0.124733  0.122484  0.147818  0.077737  0.152745  0.212922   \n",
       "15  0.100086  0.073682  0.054417  0.096286  0.015363  0.058964  0.053283   \n",
       "16  0.130423  0.236093  0.175005  0.155200  0.090765  0.198107  0.213639   \n",
       "\n",
       "          14        15        16  \n",
       "0   0.104759  0.016430  0.074601  \n",
       "1   0.075911  0.026470  0.118962  \n",
       "2   0.055863  0.063957  0.083071  \n",
       "3   0.165609  0.034800  0.151519  \n",
       "4   0.050848  0.027103  0.035454  \n",
       "5   0.032079  0.009474  0.110331  \n",
       "6   0.043339  0.034012  0.141087  \n",
       "7   0.120968  0.100086  0.130423  \n",
       "8   0.124733  0.073682  0.236093  \n",
       "9   0.122484  0.054417  0.175005  \n",
       "10  0.147818  0.096286  0.155200  \n",
       "11  0.077737  0.015363  0.090765  \n",
       "12  0.152745  0.058964  0.198107  \n",
       "13  0.212922  0.053283  0.213639  \n",
       "14  1.000000  0.032442  0.135662  \n",
       "15  0.032442  1.000000  0.058886  \n",
       "16  0.135662  0.058886  1.000000  "
      ],
      "text/html": [
       "<div>\n",
       "<style scoped>\n",
       "    .dataframe tbody tr th:only-of-type {\n",
       "        vertical-align: middle;\n",
       "    }\n",
       "\n",
       "    .dataframe tbody tr th {\n",
       "        vertical-align: top;\n",
       "    }\n",
       "\n",
       "    .dataframe thead th {\n",
       "        text-align: right;\n",
       "    }\n",
       "</style>\n",
       "<table border=\"1\" class=\"dataframe\">\n",
       "  <thead>\n",
       "    <tr style=\"text-align: right;\">\n",
       "      <th></th>\n",
       "      <th>0</th>\n",
       "      <th>1</th>\n",
       "      <th>2</th>\n",
       "      <th>3</th>\n",
       "      <th>4</th>\n",
       "      <th>5</th>\n",
       "      <th>6</th>\n",
       "      <th>7</th>\n",
       "      <th>8</th>\n",
       "      <th>9</th>\n",
       "      <th>10</th>\n",
       "      <th>11</th>\n",
       "      <th>12</th>\n",
       "      <th>13</th>\n",
       "      <th>14</th>\n",
       "      <th>15</th>\n",
       "      <th>16</th>\n",
       "    </tr>\n",
       "  </thead>\n",
       "  <tbody>\n",
       "    <tr>\n",
       "      <th>0</th>\n",
       "      <td>1.000000</td>\n",
       "      <td>0.021340</td>\n",
       "      <td>0.000000</td>\n",
       "      <td>0.029224</td>\n",
       "      <td>0.059047</td>\n",
       "      <td>0.112296</td>\n",
       "      <td>0.135950</td>\n",
       "      <td>0.058618</td>\n",
       "      <td>0.096438</td>\n",
       "      <td>0.107047</td>\n",
       "      <td>0.103473</td>\n",
       "      <td>0.027872</td>\n",
       "      <td>0.164688</td>\n",
       "      <td>0.052855</td>\n",
       "      <td>0.104759</td>\n",
       "      <td>0.016430</td>\n",
       "      <td>0.074601</td>\n",
       "    </tr>\n",
       "    <tr>\n",
       "      <th>1</th>\n",
       "      <td>0.021340</td>\n",
       "      <td>1.000000</td>\n",
       "      <td>0.046464</td>\n",
       "      <td>0.115337</td>\n",
       "      <td>0.049225</td>\n",
       "      <td>0.031911</td>\n",
       "      <td>0.024263</td>\n",
       "      <td>0.036071</td>\n",
       "      <td>0.060695</td>\n",
       "      <td>0.058659</td>\n",
       "      <td>0.041101</td>\n",
       "      <td>0.030552</td>\n",
       "      <td>0.054728</td>\n",
       "      <td>0.100453</td>\n",
       "      <td>0.075911</td>\n",
       "      <td>0.026470</td>\n",
       "      <td>0.118962</td>\n",
       "    </tr>\n",
       "    <tr>\n",
       "      <th>2</th>\n",
       "      <td>0.000000</td>\n",
       "      <td>0.046464</td>\n",
       "      <td>1.000000</td>\n",
       "      <td>0.051419</td>\n",
       "      <td>0.018222</td>\n",
       "      <td>0.025477</td>\n",
       "      <td>0.089546</td>\n",
       "      <td>0.000000</td>\n",
       "      <td>0.093626</td>\n",
       "      <td>0.030580</td>\n",
       "      <td>0.034796</td>\n",
       "      <td>0.049220</td>\n",
       "      <td>0.013350</td>\n",
       "      <td>0.066136</td>\n",
       "      <td>0.055863</td>\n",
       "      <td>0.063957</td>\n",
       "      <td>0.083071</td>\n",
       "    </tr>\n",
       "    <tr>\n",
       "      <th>3</th>\n",
       "      <td>0.029224</td>\n",
       "      <td>0.115337</td>\n",
       "      <td>0.051419</td>\n",
       "      <td>1.000000</td>\n",
       "      <td>0.095227</td>\n",
       "      <td>0.031276</td>\n",
       "      <td>0.027624</td>\n",
       "      <td>0.053350</td>\n",
       "      <td>0.076685</td>\n",
       "      <td>0.082332</td>\n",
       "      <td>0.084546</td>\n",
       "      <td>0.065597</td>\n",
       "      <td>0.102135</td>\n",
       "      <td>0.150609</td>\n",
       "      <td>0.165609</td>\n",
       "      <td>0.034800</td>\n",
       "      <td>0.151519</td>\n",
       "    </tr>\n",
       "    <tr>\n",
       "      <th>4</th>\n",
       "      <td>0.059047</td>\n",
       "      <td>0.049225</td>\n",
       "      <td>0.018222</td>\n",
       "      <td>0.095227</td>\n",
       "      <td>1.000000</td>\n",
       "      <td>0.040843</td>\n",
       "      <td>0.019080</td>\n",
       "      <td>0.018467</td>\n",
       "      <td>0.022936</td>\n",
       "      <td>0.015630</td>\n",
       "      <td>0.033796</td>\n",
       "      <td>0.030590</td>\n",
       "      <td>0.014582</td>\n",
       "      <td>0.045071</td>\n",
       "      <td>0.050848</td>\n",
       "      <td>0.027103</td>\n",
       "      <td>0.035454</td>\n",
       "    </tr>\n",
       "    <tr>\n",
       "      <th>5</th>\n",
       "      <td>0.112296</td>\n",
       "      <td>0.031911</td>\n",
       "      <td>0.025477</td>\n",
       "      <td>0.031276</td>\n",
       "      <td>0.040843</td>\n",
       "      <td>1.000000</td>\n",
       "      <td>0.248826</td>\n",
       "      <td>0.031334</td>\n",
       "      <td>0.208543</td>\n",
       "      <td>0.112640</td>\n",
       "      <td>0.144573</td>\n",
       "      <td>0.070302</td>\n",
       "      <td>0.125749</td>\n",
       "      <td>0.040613</td>\n",
       "      <td>0.032079</td>\n",
       "      <td>0.009474</td>\n",
       "      <td>0.110331</td>\n",
       "    </tr>\n",
       "    <tr>\n",
       "      <th>6</th>\n",
       "      <td>0.135950</td>\n",
       "      <td>0.024263</td>\n",
       "      <td>0.089546</td>\n",
       "      <td>0.027624</td>\n",
       "      <td>0.019080</td>\n",
       "      <td>0.248826</td>\n",
       "      <td>1.000000</td>\n",
       "      <td>0.047150</td>\n",
       "      <td>0.242247</td>\n",
       "      <td>0.227983</td>\n",
       "      <td>0.188244</td>\n",
       "      <td>0.094269</td>\n",
       "      <td>0.224184</td>\n",
       "      <td>0.121197</td>\n",
       "      <td>0.043339</td>\n",
       "      <td>0.034012</td>\n",
       "      <td>0.141087</td>\n",
       "    </tr>\n",
       "    <tr>\n",
       "      <th>7</th>\n",
       "      <td>0.058618</td>\n",
       "      <td>0.036071</td>\n",
       "      <td>0.000000</td>\n",
       "      <td>0.053350</td>\n",
       "      <td>0.018467</td>\n",
       "      <td>0.031334</td>\n",
       "      <td>0.047150</td>\n",
       "      <td>1.000000</td>\n",
       "      <td>0.092076</td>\n",
       "      <td>0.143690</td>\n",
       "      <td>0.118264</td>\n",
       "      <td>0.042225</td>\n",
       "      <td>0.122982</td>\n",
       "      <td>0.094610</td>\n",
       "      <td>0.120968</td>\n",
       "      <td>0.100086</td>\n",
       "      <td>0.130423</td>\n",
       "    </tr>\n",
       "    <tr>\n",
       "      <th>8</th>\n",
       "      <td>0.096438</td>\n",
       "      <td>0.060695</td>\n",
       "      <td>0.093626</td>\n",
       "      <td>0.076685</td>\n",
       "      <td>0.022936</td>\n",
       "      <td>0.208543</td>\n",
       "      <td>0.242247</td>\n",
       "      <td>0.092076</td>\n",
       "      <td>1.000000</td>\n",
       "      <td>0.301109</td>\n",
       "      <td>0.337269</td>\n",
       "      <td>0.141334</td>\n",
       "      <td>0.129099</td>\n",
       "      <td>0.271480</td>\n",
       "      <td>0.124733</td>\n",
       "      <td>0.073682</td>\n",
       "      <td>0.236093</td>\n",
       "    </tr>\n",
       "    <tr>\n",
       "      <th>9</th>\n",
       "      <td>0.107047</td>\n",
       "      <td>0.058659</td>\n",
       "      <td>0.030580</td>\n",
       "      <td>0.082332</td>\n",
       "      <td>0.015630</td>\n",
       "      <td>0.112640</td>\n",
       "      <td>0.227983</td>\n",
       "      <td>0.143690</td>\n",
       "      <td>0.301109</td>\n",
       "      <td>1.000000</td>\n",
       "      <td>0.248100</td>\n",
       "      <td>0.205334</td>\n",
       "      <td>0.177006</td>\n",
       "      <td>0.185391</td>\n",
       "      <td>0.122484</td>\n",
       "      <td>0.054417</td>\n",
       "      <td>0.175005</td>\n",
       "    </tr>\n",
       "    <tr>\n",
       "      <th>10</th>\n",
       "      <td>0.103473</td>\n",
       "      <td>0.041101</td>\n",
       "      <td>0.034796</td>\n",
       "      <td>0.084546</td>\n",
       "      <td>0.033796</td>\n",
       "      <td>0.144573</td>\n",
       "      <td>0.188244</td>\n",
       "      <td>0.118264</td>\n",
       "      <td>0.337269</td>\n",
       "      <td>0.248100</td>\n",
       "      <td>1.000000</td>\n",
       "      <td>0.201421</td>\n",
       "      <td>0.174220</td>\n",
       "      <td>0.236679</td>\n",
       "      <td>0.147818</td>\n",
       "      <td>0.096286</td>\n",
       "      <td>0.155200</td>\n",
       "    </tr>\n",
       "    <tr>\n",
       "      <th>11</th>\n",
       "      <td>0.027872</td>\n",
       "      <td>0.030552</td>\n",
       "      <td>0.049220</td>\n",
       "      <td>0.065597</td>\n",
       "      <td>0.030590</td>\n",
       "      <td>0.070302</td>\n",
       "      <td>0.094269</td>\n",
       "      <td>0.042225</td>\n",
       "      <td>0.141334</td>\n",
       "      <td>0.205334</td>\n",
       "      <td>0.201421</td>\n",
       "      <td>1.000000</td>\n",
       "      <td>0.053757</td>\n",
       "      <td>0.143081</td>\n",
       "      <td>0.077737</td>\n",
       "      <td>0.015363</td>\n",
       "      <td>0.090765</td>\n",
       "    </tr>\n",
       "    <tr>\n",
       "      <th>12</th>\n",
       "      <td>0.164688</td>\n",
       "      <td>0.054728</td>\n",
       "      <td>0.013350</td>\n",
       "      <td>0.102135</td>\n",
       "      <td>0.014582</td>\n",
       "      <td>0.125749</td>\n",
       "      <td>0.224184</td>\n",
       "      <td>0.122982</td>\n",
       "      <td>0.129099</td>\n",
       "      <td>0.177006</td>\n",
       "      <td>0.174220</td>\n",
       "      <td>0.053757</td>\n",
       "      <td>1.000000</td>\n",
       "      <td>0.156353</td>\n",
       "      <td>0.152745</td>\n",
       "      <td>0.058964</td>\n",
       "      <td>0.198107</td>\n",
       "    </tr>\n",
       "    <tr>\n",
       "      <th>13</th>\n",
       "      <td>0.052855</td>\n",
       "      <td>0.100453</td>\n",
       "      <td>0.066136</td>\n",
       "      <td>0.150609</td>\n",
       "      <td>0.045071</td>\n",
       "      <td>0.040613</td>\n",
       "      <td>0.121197</td>\n",
       "      <td>0.094610</td>\n",
       "      <td>0.271480</td>\n",
       "      <td>0.185391</td>\n",
       "      <td>0.236679</td>\n",
       "      <td>0.143081</td>\n",
       "      <td>0.156353</td>\n",
       "      <td>1.000000</td>\n",
       "      <td>0.212922</td>\n",
       "      <td>0.053283</td>\n",
       "      <td>0.213639</td>\n",
       "    </tr>\n",
       "    <tr>\n",
       "      <th>14</th>\n",
       "      <td>0.104759</td>\n",
       "      <td>0.075911</td>\n",
       "      <td>0.055863</td>\n",
       "      <td>0.165609</td>\n",
       "      <td>0.050848</td>\n",
       "      <td>0.032079</td>\n",
       "      <td>0.043339</td>\n",
       "      <td>0.120968</td>\n",
       "      <td>0.124733</td>\n",
       "      <td>0.122484</td>\n",
       "      <td>0.147818</td>\n",
       "      <td>0.077737</td>\n",
       "      <td>0.152745</td>\n",
       "      <td>0.212922</td>\n",
       "      <td>1.000000</td>\n",
       "      <td>0.032442</td>\n",
       "      <td>0.135662</td>\n",
       "    </tr>\n",
       "    <tr>\n",
       "      <th>15</th>\n",
       "      <td>0.016430</td>\n",
       "      <td>0.026470</td>\n",
       "      <td>0.063957</td>\n",
       "      <td>0.034800</td>\n",
       "      <td>0.027103</td>\n",
       "      <td>0.009474</td>\n",
       "      <td>0.034012</td>\n",
       "      <td>0.100086</td>\n",
       "      <td>0.073682</td>\n",
       "      <td>0.054417</td>\n",
       "      <td>0.096286</td>\n",
       "      <td>0.015363</td>\n",
       "      <td>0.058964</td>\n",
       "      <td>0.053283</td>\n",
       "      <td>0.032442</td>\n",
       "      <td>1.000000</td>\n",
       "      <td>0.058886</td>\n",
       "    </tr>\n",
       "    <tr>\n",
       "      <th>16</th>\n",
       "      <td>0.074601</td>\n",
       "      <td>0.118962</td>\n",
       "      <td>0.083071</td>\n",
       "      <td>0.151519</td>\n",
       "      <td>0.035454</td>\n",
       "      <td>0.110331</td>\n",
       "      <td>0.141087</td>\n",
       "      <td>0.130423</td>\n",
       "      <td>0.236093</td>\n",
       "      <td>0.175005</td>\n",
       "      <td>0.155200</td>\n",
       "      <td>0.090765</td>\n",
       "      <td>0.198107</td>\n",
       "      <td>0.213639</td>\n",
       "      <td>0.135662</td>\n",
       "      <td>0.058886</td>\n",
       "      <td>1.000000</td>\n",
       "    </tr>\n",
       "  </tbody>\n",
       "</table>\n",
       "</div>"
      ]
     },
     "execution_count": 33,
     "metadata": {},
     "output_type": "execute_result"
    }
   ],
   "execution_count": 33
  },
  {
   "metadata": {
    "ExecuteTime": {
     "end_time": "2025-04-20T08:54:52.586579Z",
     "start_time": "2025-04-20T08:54:52.573804Z"
    }
   },
   "cell_type": "code",
   "source": [
    "test = ['first korean artist']\n",
    "test_matrix = tfidf.transform(test)\n",
    "print(test_matrix)"
   ],
   "id": "fdfe3b313986f0cd",
   "outputs": [
    {
     "name": "stdout",
     "output_type": "stream",
     "text": [
      "  (0, 34)\t0.7435861803609287\n",
      "  (0, 94)\t0.5179080778675506\n",
      "  (0, 142)\t0.4229075729468363\n"
     ]
    }
   ],
   "execution_count": 25
  },
  {
   "metadata": {
    "ExecuteTime": {
     "end_time": "2025-04-20T08:53:32.915806Z",
     "start_time": "2025-04-20T08:53:32.910734Z"
    }
   },
   "cell_type": "code",
   "source": [
    "sim = cosine_similarity(test_matrix, tfidf_matrix)\n",
    "print(sim.shape)\n",
    "sim = sim[0]\n",
    "sim = [(id, cos) for id, cos in enumerate(sim)]\n",
    "sim = sorted(sim, key=lambda x: x[1], reverse=True)\n",
    "print(docs[sim[0][0]])\n",
    "print(sim)"
   ],
   "id": "6e53ba5666e7f5f8",
   "outputs": [
    {
     "name": "stdout",
     "output_type": "stream",
     "text": [
      "(1, 17)\n",
      "They became the first Korean group to receive a certification from the Recording Industry Association of America (RIAA) for their single \"Mic Drop\", as well as the first Korean act to top the US Billboard 200 with their studio album Love Yourself: Tear (2018).\n",
      "\n",
      "[(8, 0.1925446767370766), (6, 0.1601758304665819), (12, 0.1596398201976852), (13, 0.13841967513319248), (10, 0.12580675938918232), (5, 0.10533325157928757), (9, 0.10453824725170063), (7, 0.04941114574069588), (0, 0.048719882819813), (16, 0.03391929771232008), (1, 0.0), (2, 0.0), (3, 0.0), (4, 0.0), (11, 0.0), (14, 0.0), (15, 0.0)]\n"
     ]
    }
   ],
   "execution_count": 23
  },
  {
   "metadata": {},
   "cell_type": "code",
   "outputs": [],
   "execution_count": null,
   "source": "",
   "id": "68a5c8bdc68317bd"
  }
 ],
 "metadata": {
  "kernelspec": {
   "display_name": "Python 3",
   "language": "python",
   "name": "python3"
  },
  "language_info": {
   "codemirror_mode": {
    "name": "ipython",
    "version": 2
   },
   "file_extension": ".py",
   "mimetype": "text/x-python",
   "name": "python",
   "nbconvert_exporter": "python",
   "pygments_lexer": "ipython2",
   "version": "2.7.6"
  }
 },
 "nbformat": 4,
 "nbformat_minor": 5
}
