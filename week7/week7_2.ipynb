{
 "cells": [
  {
   "cell_type": "code",
   "id": "initial_id",
   "metadata": {
    "collapsed": true,
    "ExecuteTime": {
     "end_time": "2025-04-20T09:31:40.085314Z",
     "start_time": "2025-04-20T09:31:39.679473Z"
    }
   },
   "source": [
    "import pandas as pd\n",
    "#구글 드라이브 내 다운로드 받은 csv 파일의 디렉토리 위치 설정\n",
    "file = 'tmdb_5000_movies.csv'\n",
    "df = pd.read_csv(file)"
   ],
   "outputs": [],
   "execution_count": 1
  },
  {
   "metadata": {
    "ExecuteTime": {
     "end_time": "2025-04-20T09:31:43.219216Z",
     "start_time": "2025-04-20T09:31:43.210438Z"
    }
   },
   "cell_type": "code",
   "source": [
    "print(df.shape)\n",
    "print(df.head(1))\n",
    "print(df.columns)"
   ],
   "id": "5fc995b581f557fe",
   "outputs": [
    {
     "name": "stdout",
     "output_type": "stream",
     "text": [
      "(4803, 20)\n",
      "      budget                                             genres  \\\n",
      "0  237000000  [{\"id\": 28, \"name\": \"Action\"}, {\"id\": 12, \"nam...   \n",
      "\n",
      "                      homepage     id  \\\n",
      "0  http://www.avatarmovie.com/  19995   \n",
      "\n",
      "                                            keywords original_language  \\\n",
      "0  [{\"id\": 1463, \"name\": \"culture clash\"}, {\"id\":...                en   \n",
      "\n",
      "  original_title                                           overview  \\\n",
      "0         Avatar  In the 22nd century, a paraplegic Marine is di...   \n",
      "\n",
      "   popularity                               production_companies  \\\n",
      "0  150.437577  [{\"name\": \"Ingenious Film Partners\", \"id\": 289...   \n",
      "\n",
      "                                production_countries release_date     revenue  \\\n",
      "0  [{\"iso_3166_1\": \"US\", \"name\": \"United States o...   2009-12-10  2787965087   \n",
      "\n",
      "   runtime                                   spoken_languages    status  \\\n",
      "0    162.0  [{\"iso_639_1\": \"en\", \"name\": \"English\"}, {\"iso...  Released   \n",
      "\n",
      "                       tagline   title  vote_average  vote_count  \n",
      "0  Enter the World of Pandora.  Avatar           7.2       11800  \n",
      "Index(['budget', 'genres', 'homepage', 'id', 'keywords', 'original_language',\n",
      "       'original_title', 'overview', 'popularity', 'production_companies',\n",
      "       'production_countries', 'release_date', 'revenue', 'runtime',\n",
      "       'spoken_languages', 'status', 'tagline', 'title', 'vote_average',\n",
      "       'vote_count'],\n",
      "      dtype='object')\n"
     ]
    }
   ],
   "execution_count": 2
  },
  {
   "metadata": {
    "ExecuteTime": {
     "end_time": "2025-04-20T09:31:49.515594Z",
     "start_time": "2025-04-20T09:31:49.506595Z"
    }
   },
   "cell_type": "code",
   "source": [
    "movies = df[['original_title', 'overview']]\n",
    "movies.head()"
   ],
   "id": "ca188af2e99c48f2",
   "outputs": [
    {
     "data": {
      "text/plain": [
       "                             original_title  \\\n",
       "0                                    Avatar   \n",
       "1  Pirates of the Caribbean: At World's End   \n",
       "2                                   Spectre   \n",
       "3                     The Dark Knight Rises   \n",
       "4                               John Carter   \n",
       "\n",
       "                                            overview  \n",
       "0  In the 22nd century, a paraplegic Marine is di...  \n",
       "1  Captain Barbossa, long believed to be dead, ha...  \n",
       "2  A cryptic message from Bond’s past sends him o...  \n",
       "3  Following the death of District Attorney Harve...  \n",
       "4  John Carter is a war-weary, former military ca...  "
      ],
      "text/html": [
       "<div>\n",
       "<style scoped>\n",
       "    .dataframe tbody tr th:only-of-type {\n",
       "        vertical-align: middle;\n",
       "    }\n",
       "\n",
       "    .dataframe tbody tr th {\n",
       "        vertical-align: top;\n",
       "    }\n",
       "\n",
       "    .dataframe thead th {\n",
       "        text-align: right;\n",
       "    }\n",
       "</style>\n",
       "<table border=\"1\" class=\"dataframe\">\n",
       "  <thead>\n",
       "    <tr style=\"text-align: right;\">\n",
       "      <th></th>\n",
       "      <th>original_title</th>\n",
       "      <th>overview</th>\n",
       "    </tr>\n",
       "  </thead>\n",
       "  <tbody>\n",
       "    <tr>\n",
       "      <th>0</th>\n",
       "      <td>Avatar</td>\n",
       "      <td>In the 22nd century, a paraplegic Marine is di...</td>\n",
       "    </tr>\n",
       "    <tr>\n",
       "      <th>1</th>\n",
       "      <td>Pirates of the Caribbean: At World's End</td>\n",
       "      <td>Captain Barbossa, long believed to be dead, ha...</td>\n",
       "    </tr>\n",
       "    <tr>\n",
       "      <th>2</th>\n",
       "      <td>Spectre</td>\n",
       "      <td>A cryptic message from Bond’s past sends him o...</td>\n",
       "    </tr>\n",
       "    <tr>\n",
       "      <th>3</th>\n",
       "      <td>The Dark Knight Rises</td>\n",
       "      <td>Following the death of District Attorney Harve...</td>\n",
       "    </tr>\n",
       "    <tr>\n",
       "      <th>4</th>\n",
       "      <td>John Carter</td>\n",
       "      <td>John Carter is a war-weary, former military ca...</td>\n",
       "    </tr>\n",
       "  </tbody>\n",
       "</table>\n",
       "</div>"
      ]
     },
     "execution_count": 3,
     "metadata": {},
     "output_type": "execute_result"
    }
   ],
   "execution_count": 3
  },
  {
   "metadata": {
    "ExecuteTime": {
     "end_time": "2025-04-20T09:31:53.387763Z",
     "start_time": "2025-04-20T09:31:53.379251Z"
    }
   },
   "cell_type": "code",
   "source": [
    "print(movies.shape)\n",
    "print(movies['overview'].isnull().sum())\n",
    "movies = movies.dropna(axis=0)              #NaN 값이 있는 행 삭제(axis=1 >> 열 삭제)\n",
    "print(movies.shape)"
   ],
   "id": "742b504140f332dd",
   "outputs": [
    {
     "name": "stdout",
     "output_type": "stream",
     "text": [
      "(4803, 2)\n",
      "3\n",
      "(4800, 2)\n"
     ]
    }
   ],
   "execution_count": 4
  },
  {
   "metadata": {
    "ExecuteTime": {
     "end_time": "2025-04-20T09:31:59.333150Z",
     "start_time": "2025-04-20T09:31:58.605585Z"
    }
   },
   "cell_type": "code",
   "source": [
    "from sklearn.feature_extraction.text import TfidfVectorizer\n",
    "\n",
    "vectorizer = TfidfVectorizer(stop_words='english')\n",
    "vectorizer.fit(movies['overview'])\n",
    "tfidf = vectorizer.transform(movies['overview']).toarray()\n",
    "\n",
    "print(tfidf.shape)\n",
    "print(tfidf.dtype)\n",
    "print(pd.DataFrame(tfidf).head(5))"
   ],
   "id": "3fc2f2f5fe1b2a0b",
   "outputs": [
    {
     "name": "stdout",
     "output_type": "stream",
     "text": [
      "(4800, 20978)\n",
      "float64\n",
      "   0      1      2      3      4      5      6      7      8      9      ...  \\\n",
      "0    0.0    0.0    0.0    0.0    0.0    0.0    0.0    0.0    0.0    0.0  ...   \n",
      "1    0.0    0.0    0.0    0.0    0.0    0.0    0.0    0.0    0.0    0.0  ...   \n",
      "2    0.0    0.0    0.0    0.0    0.0    0.0    0.0    0.0    0.0    0.0  ...   \n",
      "3    0.0    0.0    0.0    0.0    0.0    0.0    0.0    0.0    0.0    0.0  ...   \n",
      "4    0.0    0.0    0.0    0.0    0.0    0.0    0.0    0.0    0.0    0.0  ...   \n",
      "\n",
      "   20968  20969  20970  20971  20972  20973  20974  20975  20976  20977  \n",
      "0    0.0    0.0    0.0    0.0    0.0    0.0    0.0    0.0    0.0    0.0  \n",
      "1    0.0    0.0    0.0    0.0    0.0    0.0    0.0    0.0    0.0    0.0  \n",
      "2    0.0    0.0    0.0    0.0    0.0    0.0    0.0    0.0    0.0    0.0  \n",
      "3    0.0    0.0    0.0    0.0    0.0    0.0    0.0    0.0    0.0    0.0  \n",
      "4    0.0    0.0    0.0    0.0    0.0    0.0    0.0    0.0    0.0    0.0  \n",
      "\n",
      "[5 rows x 20978 columns]\n"
     ]
    }
   ],
   "execution_count": 5
  },
  {
   "metadata": {
    "ExecuteTime": {
     "end_time": "2025-04-20T09:32:06.552494Z",
     "start_time": "2025-04-20T09:32:06.543983Z"
    }
   },
   "cell_type": "code",
   "source": [
    "idx = pd.Series(movies.index, index=movies['original_title']).drop_duplicates()\n",
    "print(idx.head(5))\n",
    "print(tfidf[idx['Avatar']].shape, tfidf[idx['Avatar']])"
   ],
   "id": "599489a155b65c36",
   "outputs": [
    {
     "name": "stdout",
     "output_type": "stream",
     "text": [
      "original_title\n",
      "Avatar                                      0\n",
      "Pirates of the Caribbean: At World's End    1\n",
      "Spectre                                     2\n",
      "The Dark Knight Rises                       3\n",
      "John Carter                                 4\n",
      "dtype: int64\n",
      "(20978,) [0. 0. 0. ... 0. 0. 0.]\n"
     ]
    }
   ],
   "execution_count": 7
  },
  {
   "metadata": {
    "ExecuteTime": {
     "end_time": "2025-04-20T09:32:11.337023Z",
     "start_time": "2025-04-20T09:32:09.958142Z"
    }
   },
   "cell_type": "code",
   "source": [
    "from sklearn.metrics.pairwise import linear_kernel\n",
    "sim = linear_kernel(tfidf, tfidf)"
   ],
   "id": "66b3aa10f2c64027",
   "outputs": [],
   "execution_count": 8
  },
  {
   "metadata": {
    "ExecuteTime": {
     "end_time": "2025-04-20T09:32:13.048420Z",
     "start_time": "2025-04-20T09:32:13.039399Z"
    }
   },
   "cell_type": "code",
   "source": "print(sim[0:5])",
   "id": "5610b16090ff4f4d",
   "outputs": [
    {
     "name": "stdout",
     "output_type": "stream",
     "text": [
      "[[1.         0.         0.         ... 0.         0.         0.        ]\n",
      " [0.         1.         0.         ... 0.02160368 0.         0.        ]\n",
      " [0.         0.         1.         ... 0.01488031 0.         0.        ]\n",
      " [0.02499417 0.         0.         ... 0.03386294 0.04275107 0.02268915]\n",
      " [0.         0.03336731 0.         ... 0.00612481 0.         0.        ]]\n"
     ]
    }
   ],
   "execution_count": 9
  },
  {
   "metadata": {
    "ExecuteTime": {
     "end_time": "2025-04-20T09:32:16.251372Z",
     "start_time": "2025-04-20T09:32:16.241244Z"
    }
   },
   "cell_type": "code",
   "source": [
    "rank = sim[idx['The Dark Knight Rises']]\n",
    "score = list(enumerate(rank))\n",
    "score = sorted(score, key=lambda x: x[1], reverse=True)\n",
    "score[0:11]"
   ],
   "id": "417a087bd90b48ec",
   "outputs": [
    {
     "data": {
      "text/plain": [
       "[(3, 0.9999999999999997),\n",
       " (65, 0.3015156223799365),\n",
       " (299, 0.2985696882009985),\n",
       " (428, 0.28785364205294767),\n",
       " (1359, 0.26445884163119304),\n",
       " (3853, 0.18545106440515935),\n",
       " (119, 0.16799506417419163),\n",
       " (2507, 0.16682666472835278),\n",
       " (9, 0.13373903093791062),\n",
       " (1181, 0.13219435075960548),\n",
       " (210, 0.1304533502821387)]"
      ]
     },
     "execution_count": 10,
     "metadata": {},
     "output_type": "execute_result"
    }
   ],
   "execution_count": 10
  },
  {
   "metadata": {
    "ExecuteTime": {
     "end_time": "2025-04-20T09:32:20.062288Z",
     "start_time": "2025-04-20T09:32:20.053246Z"
    }
   },
   "cell_type": "code",
   "source": [
    "movie_index = [i[0] for i in score[0:11]]\n",
    "print(movies.loc[movie_index, 'original_title'])"
   ],
   "id": "84319f135763609d",
   "outputs": [
    {
     "name": "stdout",
     "output_type": "stream",
     "text": [
      "3                    The Dark Knight Rises\n",
      "65                         The Dark Knight\n",
      "299                         Batman Forever\n",
      "428                         Batman Returns\n",
      "1359                                Batman\n",
      "3853                                  2:13\n",
      "119                          Batman Begins\n",
      "2507                             Slow Burn\n",
      "9       Batman v Superman: Dawn of Justice\n",
      "1181                                   JFK\n",
      "210                         Batman & Robin\n",
      "Name: original_title, dtype: object\n"
     ]
    }
   ],
   "execution_count": 11
  },
  {
   "metadata": {},
   "cell_type": "code",
   "outputs": [],
   "execution_count": null,
   "source": "",
   "id": "32121a2c1fe9801c"
  }
 ],
 "metadata": {
  "kernelspec": {
   "display_name": "Python 3",
   "language": "python",
   "name": "python3"
  },
  "language_info": {
   "codemirror_mode": {
    "name": "ipython",
    "version": 2
   },
   "file_extension": ".py",
   "mimetype": "text/x-python",
   "name": "python",
   "nbconvert_exporter": "python",
   "pygments_lexer": "ipython2",
   "version": "2.7.6"
  }
 },
 "nbformat": 4,
 "nbformat_minor": 5
}
